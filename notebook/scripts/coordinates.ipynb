{
 "cells": [
  {
   "cell_type": "code",
   "execution_count": null,
   "metadata": {},
   "outputs": [],
   "source": [
    "!pip install convertbng\n",
    "\n",
    "from convertbng.util import convert_bng, convert_lonlat\n",
    "import pandas as pd"
   ]
  },
  {
   "cell_type": "code",
   "execution_count": null,
   "metadata": {},
   "outputs": [],
   "source": [
    "lon=-0.053026\n",
    "lat=51.545594\n",
    "\n",
    "# convert a single value\n",
    "res = convert_bng(lon, lat)\n",
    "res\n"
   ]
  },
  {
   "cell_type": "code",
   "execution_count": null,
   "metadata": {},
   "outputs": [],
   "source": [
    "# convert lists of BNG Eastings and Northings to longitude, latitude\n",
    "eastings = [535102.8, 565934, 598735]\n",
    "northings = [184762.581, 197347, 174420]\n",
    "res_list_en = convert_lonlat(eastings, northings)\n",
    "\n",
    "res_list_en"
   ]
  },
  {
   "cell_type": "code",
   "execution_count": null,
   "metadata": {},
   "outputs": [],
   "source": [
    "# add lat and lon columns to a dataframe that contains Eastings and Northings, and populate them\n",
    "data = [[534826.525, 185447.978],[509465.8,184762],[51549,184762]]\n",
    "dataframe = pd.DataFrame(data, columns = ['easting', 'northing'])\n",
    "dataframe\n",
    "\n",
    "[dataframe['lon'],dataframe['lat']] = convert_lonlat(dataframe.easting, dataframe.northing)\n",
    "dataframe"
   ]
  },
  {
   "cell_type": "code",
   "execution_count": null,
   "metadata": {},
   "outputs": [],
   "source": []
  }
 ],
 "metadata": {
  "kernelspec": {
   "display_name": "Python 3",
   "language": "python",
   "name": "python3"
  },
  "language_info": {
   "codemirror_mode": {
    "name": "ipython",
    "version": 3
   },
   "file_extension": ".py",
   "mimetype": "text/x-python",
   "name": "python",
   "nbconvert_exporter": "python",
   "pygments_lexer": "ipython3",
   "version": "3.7.10"
  }
 },
 "nbformat": 4,
 "nbformat_minor": 4
}
