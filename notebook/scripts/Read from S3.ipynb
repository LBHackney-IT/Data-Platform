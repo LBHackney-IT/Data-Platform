{
 "cells": [
  {
   "cell_type": "code",
   "execution_count": null,
   "metadata": {},
   "outputs": [],
   "source": [
    "import sys\n",
    "from awsglue.utils import getResolvedOptions\n",
    "import pyspark.sql.functions as F\n",
    "from pyspark import SparkContext\n",
    "from awsglue.context import GlueContext\n",
    "from awsglue.dynamicframe import DynamicFrame\n",
    "from awsglue.job import Job\n",
    "from pyspark.sql.functions import col, max\n",
    "from pyspark.sql.types import StringType\n",
    "\n",
    "# source_url = 's3://dataplatform-stg-refined-zone/housing-repairs/repairs-dlo/with_uprn_from_uhref/import_year=2021/import_month=08/import_day=17/import_date=20210817/'\n",
    "# source_url = 's3://dataplatform-stg-trusted-zone/housing-repairs/repairs/import_year=2021/import_month=08/import_day=17/import_date=20210818/data_source=DLO/'\n",
    "# source_url = 's3://dataplatform-stg-refined-zone/housing-repairs/repairs-dlo/with-cleaned-addresses/import_year=2021/import_month=08/import_day=17/import_date=20210817/'\n",
    "# source_url = 's3://dataplatform-stg-refined-zone/testing-glue-ben/testmatching/'\n",
    "# source_url = 's3://dataplatform-stg-trusted-zone/housing-repairs/repairs/import_year=2021/import_month=08/import_day=18/import_date=20210818/data_source=Communal Lighting/'\n",
    "# source_url = 's3://dataplatform-stg-trusted-zone/housing-repairs/repairs/import_year=2021/import_month=08/import_day=18/import_date=20210818/data_source=DLO/part-00064-b74c7ac7-4c87-473a-abd4-b2be4d2589be.c000.snappy.parquet'\n",
    "# source_url = 's3://dataplatform-stg-trusted-zone/housing-repairs/repairs/import_year=2021/import_month=08/import_day=18/import_date=20210818/data_source=DLO/part-00032-b74c7ac7-4c87-473a-abd4-b2be4d2589be.c000.snappy.parquet'\n",
    "# source_url = 's3://dataplatform-stg-refined-zone/housing-repairs/repairs-dlo/with-cleaned-addresses/import_year=2021/import_month=08/import_day=18/import_date=20210818/part-00000-8e50387c-d932-40f9-96d1-9df75030a01e.c000.snappy.parquet'\n",
    "source_url = 's3://dataplatform-stg-trusted-zone/housing-repairs/repairs/import_year=2021/import_month=08/import_day=19/import_date=20210819/data_source=ElecMechFire - Lift Breakdown - ELA/part-00004-7807f7f8-ff27-4394-a5f4-f6d0200df30b.c000.snappy.parquet'"
   ]
  },
  {
   "cell_type": "code",
   "execution_count": null,
   "metadata": {},
   "outputs": [],
   "source": [
    "\n",
    "\n",
    "# from helpers import get_glue_env_var, PARTITION_KEYS\n",
    "\n",
    "glueContext = GlueContext(SparkContext.getOrCreate())\n",
    "job = Job(glueContext)\n",
    "\n"
   ]
  },
  {
   "cell_type": "code",
   "execution_count": null,
   "metadata": {},
   "outputs": [],
   "source": [
    "source_data = glueContext.create_dynamic_frame.from_options(\n",
    "    connection_type=\"s3\",\n",
    "    format=\"parquet\",\n",
    "    connection_options={\n",
    "        \"paths\": [source_url],\n",
    "        \"recurse\": True\n",
    "    },\n",
    "    transformation_ctx=\"query_addresses\"\n",
    ")\n",
    "source_df = source_data.toDF()\n"
   ]
  },
  {
   "cell_type": "code",
   "execution_count": null,
   "metadata": {},
   "outputs": [],
   "source": [
    "# source_df.filter(\"concatenated_string_to_match = 'LIVERMORE COURT'\").select('concatenated_string_to_match', 'matched_address', 'round','matched_uprn','levenshtein').show(20, False)\n",
    "# source_df.filter(\"uprn is null\").select('concatenated_string_to_match', 'matched_address', 'round','matched_uprn','match_type').show(30, False)"
   ]
  },
  {
   "cell_type": "code",
   "execution_count": null,
   "metadata": {},
   "outputs": [],
   "source": [
    "#  source_df.filter('uprn is null').count()\n",
    "source_df.show()"
   ]
  },
  {
   "cell_type": "code",
   "execution_count": null,
   "metadata": {},
   "outputs": [],
   "source": [
    "# source_df.count()"
   ]
  },
  {
   "cell_type": "code",
   "execution_count": null,
   "metadata": {},
   "outputs": [],
   "source": [
    "# source_df.filter('uprn is null').filter(\"match_type = 'perfect match'\").count()"
   ]
  },
  {
   "cell_type": "code",
   "execution_count": null,
   "metadata": {},
   "outputs": [],
   "source": [
    "source_df.printSchema()"
   ]
  },
  {
   "cell_type": "code",
   "execution_count": null,
   "metadata": {},
   "outputs": [],
   "source": []
  }
 ],
 "metadata": {
  "kernelspec": {
   "display_name": "PySpark",
   "language": "",
   "name": "pysparkkernel"
  },
  "language_info": {
   "codemirror_mode": {
    "name": "python",
    "version": 3
   },
   "mimetype": "text/x-python",
   "name": "pyspark",
   "pygments_lexer": "python3"
  }
 },
 "nbformat": 4,
 "nbformat_minor": 4
}
