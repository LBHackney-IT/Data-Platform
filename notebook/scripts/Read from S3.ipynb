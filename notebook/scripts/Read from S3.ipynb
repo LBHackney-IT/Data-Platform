{
 "cells": [
  {
   "cell_type": "code",
   "execution_count": 1,
   "metadata": {},
   "outputs": [
    {
     "name": "stdout",
     "output_type": "stream",
     "text": [
      "Starting Spark application\n"
     ]
    },
    {
     "data": {
      "text/html": [
       "<table>\n",
       "<tr><th>ID</th><th>YARN Application ID</th><th>Kind</th><th>State</th><th>Spark UI</th><th>Driver log</th><th>Current session?</th></tr><tr><td>9</td><td>None</td><td>pyspark</td><td>idle</td><td></td><td></td><td>✔</td></tr></table>"
      ],
      "text/plain": [
       "<IPython.core.display.HTML object>"
      ]
     },
     "metadata": {},
     "output_type": "display_data"
    },
    {
     "data": {
      "application/vnd.jupyter.widget-view+json": {
       "model_id": "",
       "version_major": 2,
       "version_minor": 0
      },
      "text/plain": [
       "FloatProgress(value=0.0, bar_style='info', description='Progress:', layout=Layout(height='25px', width='50%'),…"
      ]
     },
     "metadata": {},
     "output_type": "display_data"
    },
    {
     "name": "stdout",
     "output_type": "stream",
     "text": [
      "SparkSession available as 'spark'.\n"
     ]
    },
    {
     "data": {
      "application/vnd.jupyter.widget-view+json": {
       "model_id": "",
       "version_major": 2,
       "version_minor": 0
      },
      "text/plain": [
       "FloatProgress(value=0.0, bar_style='info', description='Progress:', layout=Layout(height='25px', width='50%'),…"
      ]
     },
     "metadata": {},
     "output_type": "display_data"
    }
   ],
   "source": [
    "import sys\n",
    "from awsglue.utils import getResolvedOptions\n",
    "import pyspark.sql.functions as F\n",
    "from pyspark import SparkContext\n",
    "from awsglue.context import GlueContext\n",
    "from awsglue.dynamicframe import DynamicFrame\n",
    "from awsglue.job import Job\n",
    "from pyspark.sql.functions import col, max\n",
    "from pyspark.sql.types import StringType\n",
    "\n",
    "# source_url = 's3://dataplatform-stg-refined-zone/housing-repairs/repairs-dlo/with_uprn_from_uhref/import_year=2021/import_month=08/import_day=17/import_date=20210817/'\n",
    "# source_url = 's3://dataplatform-stg-trusted-zone/housing-repairs/repairs/import_year=2021/import_month=08/import_day=17/import_date=20210818/data_source=DLO/'\n",
    "# source_url = 's3://dataplatform-stg-refined-zone/housing-repairs/repairs-dlo/with-cleaned-addresses/import_year=2021/import_month=08/import_day=17/import_date=20210817/'\n",
    "# source_url = 's3://dataplatform-stg-refined-zone/testing-glue-ben/testmatching/'\n",
    "# source_url = 's3://dataplatform-stg-trusted-zone/housing-repairs/repairs/import_year=2021/import_month=08/import_day=18/import_date=20210818/data_source=Communal Lighting/'\n",
    "# source_url = 's3://dataplatform-stg-trusted-zone/housing-repairs/repairs/import_year=2021/import_month=08/import_day=18/import_date=20210818/data_source=DLO/part-00064-b74c7ac7-4c87-473a-abd4-b2be4d2589be.c000.snappy.parquet'\n",
    "# source_url = 's3://dataplatform-stg-trusted-zone/housing-repairs/repairs/import_year=2021/import_month=08/import_day=18/import_date=20210818/data_source=DLO/part-00032-b74c7ac7-4c87-473a-abd4-b2be4d2589be.c000.snappy.parquet'\n",
    "# source_url = 's3://dataplatform-stg-refined-zone/housing-repairs/repairs-dlo/with-cleaned-addresses/import_year=2021/import_month=08/import_day=18/import_date=20210818/part-00000-8e50387c-d932-40f9-96d1-9df75030a01e.c000.snappy.parquet'\n",
    "source_url = 's3://dataplatform-stg-trusted-zone/housing-repairs/repairs/import_year=2021/import_month=08/import_day=19/import_date=20210819/data_source=ElecMechFire - Lift Breakdown - ELA/part-00004-7807f7f8-ff27-4394-a5f4-f6d0200df30b.c000.snappy.parquet'"
   ]
  },
  {
   "cell_type": "code",
   "execution_count": 2,
   "metadata": {},
   "outputs": [
    {
     "data": {
      "application/vnd.jupyter.widget-view+json": {
       "model_id": "",
       "version_major": 2,
       "version_minor": 0
      },
      "text/plain": [
       "FloatProgress(value=0.0, bar_style='info', description='Progress:', layout=Layout(height='25px', width='50%'),…"
      ]
     },
     "metadata": {},
     "output_type": "display_data"
    }
   ],
   "source": [
    "\n",
    "\n",
    "# from helpers import get_glue_env_var, PARTITION_KEYS\n",
    "\n",
    "glueContext = GlueContext(SparkContext.getOrCreate())\n",
    "job = Job(glueContext)\n",
    "\n"
   ]
  },
  {
   "cell_type": "code",
   "execution_count": 3,
   "metadata": {},
   "outputs": [
    {
     "data": {
      "application/vnd.jupyter.widget-view+json": {
       "model_id": "",
       "version_major": 2,
       "version_minor": 0
      },
      "text/plain": [
       "FloatProgress(value=0.0, bar_style='info', description='Progress:', layout=Layout(height='25px', width='50%'),…"
      ]
     },
     "metadata": {},
     "output_type": "display_data"
    }
   ],
   "source": [
    "source_data = glueContext.create_dynamic_frame.from_options(\n",
    "    connection_type=\"s3\",\n",
    "    format=\"parquet\",\n",
    "    connection_options={\n",
    "        \"paths\": [source_url],\n",
    "        \"recurse\": True\n",
    "    },\n",
    "    transformation_ctx=\"query_addresses\"\n",
    ")\n",
    "source_df = source_data.toDF()\n"
   ]
  },
  {
   "cell_type": "code",
   "execution_count": 4,
   "metadata": {},
   "outputs": [
    {
     "data": {
      "application/vnd.jupyter.widget-view+json": {
       "model_id": "",
       "version_major": 2,
       "version_minor": 0
      },
      "text/plain": [
       "FloatProgress(value=0.0, bar_style='info', description='Progress:', layout=Layout(height='25px', width='50%'),…"
      ]
     },
     "metadata": {},
     "output_type": "display_data"
    }
   ],
   "source": [
    "# source_df.filter(\"concatenated_string_to_match = 'LIVERMORE COURT'\").select('concatenated_string_to_match', 'matched_address', 'round','matched_uprn','levenshtein').show(20, False)\n",
    "# source_df.filter(\"uprn is null\").select('concatenated_string_to_match', 'matched_address', 'round','matched_uprn','match_type').show(30, False)"
   ]
  },
  {
   "cell_type": "code",
   "execution_count": 5,
   "metadata": {},
   "outputs": [
    {
     "data": {
      "application/vnd.jupyter.widget-view+json": {
       "model_id": "",
       "version_major": 2,
       "version_minor": 0
      },
      "text/plain": [
       "FloatProgress(value=0.0, bar_style='info', description='Progress:', layout=Layout(height='25px', width='50%'),…"
      ]
     },
     "metadata": {},
     "output_type": "display_data"
    },
    {
     "name": "stdout",
     "output_type": "stream",
     "text": [
      "+------------+-------------------+----------------+--------------------+-------------------------+---------------------------+----------------------+--------------------+--------------------+-----------------+----------------------------+--------+----------------+--------------+----+--------------------+------------+--------------------+------------------+---------------+-----------+\n",
      "|       prinx|    datetime_raised|       operative|    property_address|work_priority_description|work_priority_priority_code|temp_order_number_full|      contractor_ref|     import_datetime| import_timestamp|concatenated_string_to_match|postcode|postcode_nospace|address_length|uprn|       query_address|matched_uprn|     matched_address|matched_blpu_class|     match_type|      round|\n",
      "+------------+-------------------+----------------+--------------------+-------------------------+---------------------------+----------------------+--------------------+--------------------+-----------------+----------------------------+--------+----------------+--------------+----+--------------------+------------+--------------------+------------------+---------------+-----------+\n",
      "| 85899345934|2020-11-30 00:00:00|Matthew Robinson|HERRICK HSE LIFT ...|                 A Defect|                       null|                  null|ELA Job Ref-WO159...|2021-08-19 06:03:...|1629353028.033883|        HERRICK HOUSE LIF...|        |                |            21|null|HERRICK HOUSE LIF...| 10008302646|49 AJEX HOUSE EAS...|                UC|imperfect match|last chance|\n",
      "|240518168581|2020-10-10 00:00:00|            null|   4280 NISBET HOUSE|      confirmation orders|                       null|                  null|                null|2021-08-19 06:03:...|1629353028.033883|           4280 NISBET HOUSE|        |                |            17|null|  4280 NISBET HOUSE | 10008324865|    20 SAMUEL CLOSE |              RD06|imperfect match|last chance|\n",
      "|          19|2021-02-15 00:00:00|Matthew Robinson|BARRIE HSE  LIFT ...|                 Quote 82|                       null|                  null|ELA Q00339414 Quo...|2021-08-19 06:03:...|1629353028.033883|        BARRIE HOUSE LIFT...|        |                |            20|null|BARRIE HOUSE LIFT...| 10008353115|CURIE HOUSE WALLI...|                PP|imperfect match|last chance|\n",
      "|635655159837|               null|            null|      CRANWOOD COURT|      confirmation orders|                       null|                  null|                null|2021-08-19 06:03:...|1629353028.033883|              CRANWOOD COURT|        |                |            14|null|     CRANWOOD COURT | 10008340387|HARTWOOD COURT DE...|                PP|imperfect match|    round 5|\n",
      "|128849018956|0021-11-01 00:00:00|            null|  6146 FELLOWS COURT|      confirmation orders|                       null|                  null|                null|2021-08-19 06:03:...|1629353028.033883|          6146 FELLOWS COURT|        |                |            18|null| 6146 FELLOWS COURT | 10008345160|       1 BOWL COURT |                PP|imperfect match|last chance|\n",
      "|103079215141|2020-11-17 00:00:00|Matthew Robinson|CALIBAN TOWER Tow...|                Immediate|                          1|                  null|ELA Job Ref -WO15...|2021-08-19 06:03:...|1629353028.033883|        CALIBAN TOWER TOW...|        |                |            34|null|CALIBAN TOWER TOW...| 10008287762|CALIBAN TOWER ARD...|                PP|      unmatched|last chance|\n",
      "| 68719476744|2020-11-02 00:00:00|Matthew Robinson| GILBY HSE LIFT 1697|                 Quote 67|                       null|                  null|ELA Q00336554 Quo...|2021-08-19 06:03:...|1629353028.033883|        GILBY HOUSE LIFT ...|        |                |            19|null|GILBY HOUSE LIFT ...| 10008307622|BOILER HOUSE OFFA...|              CU09|imperfect match|last chance|\n",
      "|300647710793|               null|            null|    5341 ROZEL COURT|      confirmation orders|                       null|                  null|                null|2021-08-19 06:03:...|1629353028.033883|            5341 ROZEL COURT|        |                |            16|null|   5341 ROZEL COURT | 10008345178|       3 BOWL COURT |                PP|imperfect match|last chance|\n",
      "|343597383744|2020-06-11 00:00:00|            null| 1224 LAKESIDE COURT|      confirmation orders|                       null|                  null|                null|2021-08-19 06:03:...|1629353028.033883|         1224 LAKESIDE COURT|        |                |            19|null|1224 LAKESIDE COURT | 10008321620|     4 LEASIDE ROAD |                UC|imperfect match|last chance|\n",
      "|223338299398|2020-01-12 00:00:00|            null| 6084 BUCKLAND COURT|      confirmation orders|                       null|                  null|                null|2021-08-19 06:03:...|1629353028.033883|         6084 BUCKLAND COURT|        |                |            19|null|6084 BUCKLAND COURT | 10008345178|       3 BOWL COURT |                PP|imperfect match|last chance|\n",
      "|103079215146|2020-11-18 00:00:00|Matthew Robinson|MOREDOWN HSE LIFT...|                Immediate|                          1|                  null|ELA Job Ref-WO156...|2021-08-19 06:03:...|1629353028.033883|        MOREDOWN HOUSE LI...|        |                |            22|null|MOREDOWN HOUSE LI...| 10008303880|WAKELYN HOUSE TUD...|                UC|imperfect match|last chance|\n",
      "| 60129542162|2021-01-25 00:00:00|Matthew Robinson|  FOLINGHAM CRT 2780|                 Quote 86|                       null|                  null|ELA Q00340136 Quo...|2021-08-19 06:03:...|1629353028.033883|          FOLINGHAM CRT 2780|        |                |            18|null| FOLINGHAM CRT 2780 |200001073456|     93 GRAHAM ROAD |                PP|imperfect match|last chance|\n",
      "|120259084319|2021-01-06 00:00:00|Matthew Robinson|WEYBRIDGE HSE LIF...|                Immediate|                          1|                  null|ELA Job Ref-WO163...|2021-08-19 06:03:...|1629353028.033883|        WEYBRIDGE HOUSE L...|        |                |            23|null|WEYBRIDGE HOUSE L...| 10008307622|BOILER HOUSE OFFA...|              CU09|imperfect match|last chance|\n",
      "| 77309411345|2020-10-20 00:00:00|  Chris McDonagh|ST BRELADES LIFT ...|     Immediate        ...|                       null|                  null|ELA Job Ref-WO150...|2021-08-19 06:03:...|1629353028.033883|        ST BRELADES LIFT ...|        |                |            21|null|ST BRELADES LIFT ...| 10008302070|    60 BELFAST ROAD |                UC|imperfect match|last chance|\n",
      "|231928234012|               null|            null|    5341 ROZEL COURT|      confirmation orders|                       null|                  null|                null|2021-08-19 06:03:...|1629353028.033883|            5341 ROZEL COURT|        |                |            16|null|   5341 ROZEL COURT | 10008345178|       3 BOWL COURT |                PP|imperfect match|last chance|\n",
      "|300647710743|0021-03-01 00:00:00|            null|  6383 THAXTED COURT|      confirmation orders|                       null|                  null|                null|2021-08-19 06:03:...|1629353028.033883|          6383 THAXTED COURT|        |                |            18|null| 6383 THAXTED COURT | 10008345178|       3 BOWL COURT |                PP|imperfect match|last chance|\n",
      "|360777252887|               null|            null|3436 WRENS PARK H...|      confirmation orders|                       null|                  null|                null|2021-08-19 06:03:...|1629353028.033883|        3436 WRENS PARK H...|        |                |            27|null|3436 WRENS PARK H...|100023015241| 43 DOWNS PARK ROAD |                PP|imperfect match|last chance|\n",
      "| 51539607582|2020-11-24 00:00:00|  Crisjen Parkes|355 QUEENSBRIDGE ...|                Immediate|                          1|                  null|ELA Job Ref- WO15...|2021-08-19 06:03:...|1629353028.033883|        355 QUEENSBRIDGE ...|        |                |            29|null|355 QUEENSBRIDGE ...|100023651306|355 QUEENSBRIDGE ...|                PP|imperfect match|last chance|\n",
      "|566935683075|2021-07-03 00:00:00|            null|      CHERBURY COURT|      confirmation orders|                       null|                  null|                null|2021-08-19 06:03:...|1629353028.033883|              CHERBURY COURT|        |                |            14|null|     CHERBURY COURT | 10008345178|       3 BOWL COURT |                PP|imperfect match|last chance|\n",
      "|463856467990|               null|            null|2150 HEATHCOTE POINT|      confirmation orders|                       null|                  null|                null|2021-08-19 06:03:...|1629353028.033883|        2150 HEATHCOTE POINT|        |                |            20|null|2150 HEATHCOTE PO...|100021025546|     20 BEATTY ROAD |                PP|imperfect match|last chance|\n",
      "+------------+-------------------+----------------+--------------------+-------------------------+---------------------------+----------------------+--------------------+--------------------+-----------------+----------------------------+--------+----------------+--------------+----+--------------------+------------+--------------------+------------------+---------------+-----------+\n",
      "only showing top 20 rows"
     ]
    }
   ],
   "source": [
    "#  source_df.filter('uprn is null').count()\n",
    "source_df.show()"
   ]
  },
  {
   "cell_type": "code",
   "execution_count": 6,
   "metadata": {},
   "outputs": [
    {
     "data": {
      "application/vnd.jupyter.widget-view+json": {
       "model_id": "",
       "version_major": 2,
       "version_minor": 0
      },
      "text/plain": [
       "FloatProgress(value=0.0, bar_style='info', description='Progress:', layout=Layout(height='25px', width='50%'),…"
      ]
     },
     "metadata": {},
     "output_type": "display_data"
    }
   ],
   "source": [
    "# source_df.count()"
   ]
  },
  {
   "cell_type": "code",
   "execution_count": 7,
   "metadata": {},
   "outputs": [
    {
     "data": {
      "application/vnd.jupyter.widget-view+json": {
       "model_id": "",
       "version_major": 2,
       "version_minor": 0
      },
      "text/plain": [
       "FloatProgress(value=0.0, bar_style='info', description='Progress:', layout=Layout(height='25px', width='50%'),…"
      ]
     },
     "metadata": {},
     "output_type": "display_data"
    }
   ],
   "source": [
    "# source_df.filter('uprn is null').filter(\"match_type = 'perfect match'\").count()"
   ]
  },
  {
   "cell_type": "code",
   "execution_count": 8,
   "metadata": {},
   "outputs": [
    {
     "data": {
      "application/vnd.jupyter.widget-view+json": {
       "model_id": "",
       "version_major": 2,
       "version_minor": 0
      },
      "text/plain": [
       "FloatProgress(value=0.0, bar_style='info', description='Progress:', layout=Layout(height='25px', width='50%'),…"
      ]
     },
     "metadata": {},
     "output_type": "display_data"
    },
    {
     "name": "stdout",
     "output_type": "stream",
     "text": [
      "root\n",
      " |-- prinx: long (nullable = true)\n",
      " |-- datetime_raised: timestamp (nullable = true)\n",
      " |-- operative: string (nullable = true)\n",
      " |-- property_address: string (nullable = true)\n",
      " |-- work_priority_description: string (nullable = true)\n",
      " |-- work_priority_priority_code: integer (nullable = true)\n",
      " |-- temp_order_number_full: string (nullable = true)\n",
      " |-- contractor_ref: string (nullable = true)\n",
      " |-- import_datetime: timestamp (nullable = true)\n",
      " |-- import_timestamp: string (nullable = true)\n",
      " |-- concatenated_string_to_match: string (nullable = true)\n",
      " |-- postcode: string (nullable = true)\n",
      " |-- postcode_nospace: string (nullable = true)\n",
      " |-- address_length: integer (nullable = true)\n",
      " |-- uprn: string (nullable = true)\n",
      " |-- query_address: string (nullable = true)\n",
      " |-- matched_uprn: long (nullable = true)\n",
      " |-- matched_address: string (nullable = true)\n",
      " |-- matched_blpu_class: string (nullable = true)\n",
      " |-- match_type: string (nullable = true)\n",
      " |-- round: string (nullable = true)"
     ]
    }
   ],
   "source": [
    "source_df.printSchema()"
   ]
  },
  {
   "cell_type": "code",
   "execution_count": null,
   "metadata": {},
   "outputs": [],
   "source": []
  }
 ],
 "metadata": {
  "kernelspec": {
   "display_name": "PySpark",
   "language": "",
   "name": "pysparkkernel"
  },
  "language_info": {
   "codemirror_mode": {
    "name": "python",
    "version": 3
   },
   "mimetype": "text/x-python",
   "name": "pyspark",
   "pygments_lexer": "python3"
  }
 },
 "nbformat": 4,
 "nbformat_minor": 4
}
