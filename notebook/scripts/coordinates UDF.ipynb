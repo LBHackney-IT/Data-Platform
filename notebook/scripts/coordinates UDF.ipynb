{
 "cells": [
  {
   "cell_type": "code",
   "execution_count": 1,
   "id": "e2b7b620-724c-45f8-b108-94359b264dd8",
   "metadata": {},
   "outputs": [
    {
     "name": "stdout",
     "output_type": "stream",
     "text": [
      "Starting Spark application\n"
     ]
    },
    {
     "data": {
      "text/html": [
       "<table>\n",
       "<tr><th>ID</th><th>YARN Application ID</th><th>Kind</th><th>State</th><th>Spark UI</th><th>Driver log</th><th>User</th><th>Current session?</th></tr><tr><td>4</td><td>None</td><td>pyspark</td><td>idle</td><td></td><td></td><td>None</td><td>✔</td></tr></table>"
      ],
      "text/plain": [
       "<IPython.core.display.HTML object>"
      ]
     },
     "metadata": {},
     "output_type": "display_data"
    },
    {
     "data": {
      "application/vnd.jupyter.widget-view+json": {
       "model_id": "",
       "version_major": 2,
       "version_minor": 0
      },
      "text/plain": [
       "FloatProgress(value=0.0, bar_style='info', description='Progress:', layout=Layout(height='25px', width='50%'),…"
      ]
     },
     "metadata": {},
     "output_type": "display_data"
    },
    {
     "name": "stdout",
     "output_type": "stream",
     "text": [
      "SparkSession available as 'spark'.\n"
     ]
    },
    {
     "data": {
      "application/vnd.jupyter.widget-view+json": {
       "model_id": "",
       "version_major": 2,
       "version_minor": 0
      },
      "text/plain": [
       "FloatProgress(value=0.0, bar_style='info', description='Progress:', layout=Layout(height='25px', width='50%'),…"
      ]
     },
     "metadata": {},
     "output_type": "display_data"
    }
   ],
   "source": [
    "from math import *\n",
    "\n",
    "def OSGB36toWGS84(E,N):\n",
    " #E, N are the British national grid coordinates - eastings and northings\n",
    "    a, b = 6377563.396, 6356256.909     #The Airy 180 semi-major and semi-minor axes used for OSGB36 (m)\n",
    "    F0 = 0.9996012717                   #scale factor on the central meridian\n",
    "    lat0 = 49*pi/180                    #Latitude of true origin (radians)\n",
    "    lon0 = -2*pi/180                    #Longtitude of true origin and central meridian (radians)\n",
    "    N0, E0 = -100000, 400000            #Northing & easting of true origin (m)\n",
    "    e2 = 1 - (b*b)/(a*a)                #eccentricity squared\n",
    "    n = (a-b)/(a+b)\n",
    "\n",
    "    #Initialise the iterative variables\n",
    "    lat,M = lat0, 0\n",
    "    while N-N0-M >= 0.00001: #Accurate to 0.01mm\n",
    "        lat = (N-N0-M)/(a*F0) + lat;\n",
    "        M1 = (1 + n + (5./4)*n**2 + (5./4)*n**3) * (lat-lat0)\n",
    "        M2 = (3*n + 3*n**2 + (21./8)*n**3) * sin(lat-lat0) * cos(lat+lat0)\n",
    "        M3 = ((15./8)*n**2 + (15./8)*n**3) * sin(2*(lat-lat0)) * cos(2*(lat+lat0))\n",
    "        M4 = (35./24)*n**3 * sin(3*(lat-lat0)) * cos(3*(lat+lat0))\n",
    "        #meridional arc\n",
    "        M = b * F0 * (M1 - M2 + M3 - M4)\n",
    "\n",
    "    #transverse radius of curvature\n",
    "    nu = a*F0/sqrt(1-e2*sin(lat)**2)\n",
    "\n",
    "    #meridional radius of curvature\n",
    "    rho = a*F0*(1-e2)*(1-e2*sin(lat)**2)**(-1.5)\n",
    "    eta2 = nu/rho-1\n",
    "\n",
    "    secLat = 1./cos(lat)\n",
    "    VII = tan(lat)/(2*rho*nu)\n",
    "    VIII = tan(lat)/(24*rho*nu**3)*(5+3*tan(lat)**2+eta2-9*tan(lat)**2*eta2)\n",
    "    IX = tan(lat)/(720*rho*nu**5)*(61+90*tan(lat)**2+45*tan(lat)**4)\n",
    "    X = secLat/nu\n",
    "    XI = secLat/(6*nu**3)*(nu/rho+2*tan(lat)**2)\n",
    "    XII = secLat/(120*nu**5)*(5+28*tan(lat)**2+24*tan(lat)**4)\n",
    "    XIIA = secLat/(5040*nu**7)*(61+662*tan(lat)**2+1320*tan(lat)**4+720*tan(lat)**6)\n",
    "    dE = E-E0\n",
    "\n",
    "    #These are on the wrong ellipsoid currently: Airy1830. (Denoted by _1)\n",
    "    lat_1 = lat - VII*dE**2 + VIII*dE**4 - IX*dE**6\n",
    "    print (lat_1)\n",
    "    lon_1 = lon0 + X*dE - XI*dE**3 + XII*dE**5 - XIIA*dE**7\n",
    "\n",
    "    #Want to convert to the GRS80 ellipsoid. \n",
    "    #First convert to cartesian from spherical polar coordinates\n",
    "    H = 0 #Third spherical coord. \n",
    "    x_1 = (nu/F0 + H)*cos(lat_1)*cos(lon_1)\n",
    "    y_1 = (nu/F0+ H)*cos(lat_1)*sin(lon_1)\n",
    "    z_1 = ((1-e2)*nu/F0 +H)*sin(lat_1)\n",
    "\n",
    "    #Perform Helmert transform (to go between Airy 1830 (_1) and GRS80 (_2))\n",
    "    s = -20.4894*10**-6 #The scale factor -1\n",
    "    tx, ty, tz = 446.448, -125.157, + 542.060 #The translations along x,y,z axes respectively\n",
    "    rxs,rys,rzs = 0.1502,  0.2470,  0.8421  #The rotations along x,y,z respectively, in seconds\n",
    "    rx, ry, rz = rxs*pi/(180*3600.), rys*pi/(180*3600.), rzs*pi/(180*3600.) #In radians\n",
    "    x_2 = tx + (1+s)*x_1 + (-rz)*y_1 + (ry)*z_1\n",
    "    y_2 = ty + (rz)*x_1  + (1+s)*y_1 + (-rx)*z_1\n",
    "    z_2 = tz + (-ry)*x_1 + (rx)*y_1 +  (1+s)*z_1\n",
    "\n",
    "    #Back to spherical polar coordinates from cartesian\n",
    "    #Need some of the characteristics of the new ellipsoid    \n",
    "    a_2, b_2 =6378137.000, 6356752.3141 #The GSR80 semi-major and semi-minor axes used for WGS84(m)\n",
    "    e2_2 = 1- (b_2*b_2)/(a_2*a_2)   #The eccentricity of the GRS80 ellipsoid\n",
    "    p = sqrt(x_2**2 + y_2**2)\n",
    "\n",
    "    #Lat is obtained by an iterative proceedure:   \n",
    "    lat = atan2(z_2,(p*(1-e2_2))) #Initial value\n",
    "    print (\"Lat before iteration\", lat)\n",
    "    latold = 2*pi\n",
    "    while abs(lat - latold)>10**-16: \n",
    "        lat, latold = latold, lat\n",
    "        nu_2 = a_2/sqrt(1-e2_2*sin(latold)**2)\n",
    "        lat = atan2(z_2+e2_2*nu_2*sin(latold), p)\n",
    "\n",
    "\n",
    "    #Lon and height are then pretty easy\n",
    "    lon = atan2(y_2,x_2)\n",
    "    H = p/cos(lat) - nu_2\n",
    "\n",
    "\n",
    "    #Convert to degrees\n",
    "    lat = lat*180/pi\n",
    "    lon = lon*180/pi\n",
    "\n",
    "    #Job's a good'n. \n",
    "    return lat, lon"
   ]
  },
  {
   "cell_type": "code",
   "execution_count": 2,
   "id": "48cac3a4-16bb-4b5f-8f0a-22a42346f042",
   "metadata": {},
   "outputs": [
    {
     "data": {
      "application/vnd.jupyter.widget-view+json": {
       "model_id": "",
       "version_major": 2,
       "version_minor": 0
      },
      "text/plain": [
       "FloatProgress(value=0.0, bar_style='info', description='Progress:', layout=Layout(height='25px', width='50%'),…"
      ]
     },
     "metadata": {},
     "output_type": "display_data"
    },
    {
     "name": "stdout",
     "output_type": "stream",
     "text": [
      "0.8978814472874397\n",
      "Lat before iteration 0.8978904491757984\n",
      "(51.44533171139635, -0.32824830611195455)"
     ]
    }
   ],
   "source": [
    "print (OSGB36toWGS84(516276, 173141))"
   ]
  },
  {
   "cell_type": "code",
   "execution_count": 3,
   "id": "7ee0412b-8a8f-47b0-a609-4b334a505c2c",
   "metadata": {},
   "outputs": [
    {
     "data": {
      "application/vnd.jupyter.widget-view+json": {
       "model_id": "",
       "version_major": 2,
       "version_minor": 0
      },
      "text/plain": [
       "FloatProgress(value=0.0, bar_style='info', description='Progress:', layout=Layout(height='25px', width='50%'),…"
      ]
     },
     "metadata": {},
     "output_type": "display_data"
    }
   ],
   "source": [
    "import sys\n",
    "\n",
    "sys.argv.append('--JOB_NAME')\n",
    "sys.argv.append('address-cleaning')\n",
    "\n",
    "sys.argv.append('--source_catalog_database')\n",
    "sys.argv.append('env-enforcement-raw-zone')\n",
    "\n",
    "sys.argv.append('--source_catalog_table')\n",
    "sys.argv.append('noiseworks_case')\n",
    "\n",
    "sys.argv.append('--cleaned_repairs_s3_bucket_target')\n",
    "sys.argv.append('s3://dataplatform-stg-refined-zone/housing-repairs/repairs-avonline/cleaned')"
   ]
  },
  {
   "cell_type": "code",
   "execution_count": 4,
   "id": "9af5f88d-e2ac-4056-bf84-fdbeba2ade05",
   "metadata": {},
   "outputs": [
    {
     "data": {
      "application/vnd.jupyter.widget-view+json": {
       "model_id": "",
       "version_major": 2,
       "version_minor": 0
      },
      "text/plain": [
       "FloatProgress(value=0.0, bar_style='info', description='Progress:', layout=Layout(height='25px', width='50%'),…"
      ]
     },
     "metadata": {},
     "output_type": "display_data"
    }
   ],
   "source": [
    "from awsglue.transforms import *\n",
    "from awsglue.utils import getResolvedOptions\n",
    "from pyspark.context import SparkContext\n",
    "from awsglue.context import GlueContext\n",
    "from awsglue.job import Job\n",
    "from pyspark.sql.functions import rank, col, trim, when, max, trim\n",
    "import pyspark.sql.functions as F\n",
    "from pyspark.sql.functions import udf\n",
    "from pyspark.sql.types import *\n",
    "from awsglue.dynamicframe import DynamicFrame\n",
    "\n",
    "#TODO get these functions from helpers\n",
    "\n",
    "def get_glue_env_var(key, default=\"none\"):\n",
    "    if f'--{key}' in sys.argv:\n",
    "        return getResolvedOptions(sys.argv, [key])[key]\n",
    "    else:\n",
    "        return default\n",
    "\n",
    "def getLatestPartitions(dfa):\n",
    "   dfa = dfa.where(col('import_year') == dfa.select(max('import_year')).first()[0])\n",
    "   dfa = dfa.where(col('import_month') == dfa.select(max('import_month')).first()[0])\n",
    "   dfa = dfa.where(col('import_day') == dfa.select(max('import_day')).first()[0])\n",
    "   return dfa"
   ]
  },
  {
   "cell_type": "code",
   "execution_count": 5,
   "id": "ba95ce94-d7b3-475f-840e-ad481d3a6aeb",
   "metadata": {},
   "outputs": [
    {
     "data": {
      "application/vnd.jupyter.widget-view+json": {
       "model_id": "",
       "version_major": 2,
       "version_minor": 0
      },
      "text/plain": [
       "FloatProgress(value=0.0, bar_style='info', description='Progress:', layout=Layout(height='25px', width='50%'),…"
      ]
     },
     "metadata": {},
     "output_type": "display_data"
    },
    {
     "name": "stderr",
     "output_type": "stream",
     "text": [
      "An error was encountered:\n",
      "name 'df' is not defined\n",
      "Traceback (most recent call last):\n",
      "NameError: name 'df' is not defined\n",
      "\n"
     ]
    }
   ],
   "source": [
    "args = getResolvedOptions(sys.argv, ['JOB_NAME'])\n",
    "\n",
    "source_catalog_database = get_glue_env_var('source_catalog_database', '')\n",
    "source_catalog_table    = get_glue_env_var('source_catalog_table', '')\n",
    "cleaned_repairs_s3_bucket_target = get_glue_env_var('cleaned_repairs_s3_bucket_target', '')\n",
    "\n",
    "\n",
    "sc = SparkContext.getOrCreate()\n",
    "glueContext = GlueContext(sc)\n",
    "logger = glueContext.get_logger()\n",
    "job = Job(glueContext)\n",
    "job.init(args['JOB_NAME'], args)\n",
    "\n",
    "logger.info('Fetch Source Data')\n",
    "\n",
    "source_data = glueContext.create_dynamic_frame.from_catalog(\n",
    "    name_space=source_catalog_database,\n",
    "    table_name=source_catalog_table,\n",
    "#     push_down_predicate=\"import_date==max(import_date)\"\n",
    ") \n",
    "\n"
   ]
  },
  {
   "cell_type": "code",
   "execution_count": 16,
   "id": "6fe31971-1b66-4956-9912-6968a040912b",
   "metadata": {},
   "outputs": [
    {
     "data": {
      "application/vnd.jupyter.widget-view+json": {
       "model_id": "",
       "version_major": 2,
       "version_minor": 0
      },
      "text/plain": [
       "FloatProgress(value=0.0, bar_style='info', description='Progress:', layout=Layout(height='25px', width='50%'),…"
      ]
     },
     "metadata": {},
     "output_type": "display_data"
    }
   ],
   "source": [
    "df = df.withColumn('easting',df['easting'].cast(\"double\"))\n",
    "df = df.withColumn('northing',df['northing'].cast(\"double\"))"
   ]
  },
  {
   "cell_type": "code",
   "execution_count": 7,
   "id": "0e128b03-c291-496c-8720-88d68f7c9dad",
   "metadata": {},
   "outputs": [
    {
     "data": {
      "application/vnd.jupyter.widget-view+json": {
       "model_id": "",
       "version_major": 2,
       "version_minor": 0
      },
      "text/plain": [
       "FloatProgress(value=0.0, bar_style='info', description='Progress:', layout=Layout(height='25px', width='50%'),…"
      ]
     },
     "metadata": {},
     "output_type": "display_data"
    },
    {
     "name": "stdout",
     "output_type": "stream",
     "text": [
      "+---+--------------------+-------------+-----+-------------------+------------+-------+--------+------+--------------------+---------+---------+------+-----------+--------------------+-----------------+-----------+------------+----------+-----------+\n",
      "| id|             created|created_by_id| kind|         kind_other|        uprn|easting|northing|radius|      location_cache|     ward|    where|estate|assigned_id|     import_datetime| import_timestamp|import_year|import_month|import_day|import_date|\n",
      "+---+--------------------+-------------+-----+-------------------+------------+-------+--------+------+--------------------+---------+---------+------+-----------+--------------------+-----------------+-----------+------------+----------+-----------+\n",
      "|680|2021-10-21T08:40:...|             |   tv|                   |            | 532461|  186439|   180|180m around a poi...|E05009369|residence|     y|       1925|2022-02-08 02:01:...|1644285718.432042|       2022|          02|        08|   20220208|\n",
      "|856|2021-11-12T06:31:...|             |other|Other type of noise| 10008346845| 532825|  183684|      |Flat 103, Mono To...|E05009377|residence|     y|       1929|2022-02-01 02:02:...|1643680922.809401|       2022|          02|        01|   20220201|\n",
      "|531|2021-10-02T07:44:...|             |music|                   |100021081617| 533737|  183122|      |Flat 373, Fellows...|E05009375|residence|     ?|       1928|2022-02-08 02:01:...|1644285718.432042|       2022|          02|        08|   20220208|\n",
      "|960|2021-11-26T18:22:...|             |music|                   |            | 532941|  186503|    30|30m around a poin...|E05009369|residence|     y|       1925|2022-01-28 02:01:...|1643335310.674426|       2022|          01|        28|   20220128|\n",
      "|981|2021-11-29T08:57:...|             |  car|                   |100021055101| 532425|  186751|      |Flat 2, 12 Lordsh...|E05009369|residence|     y|       1925|2022-02-06 02:02:...|1644112923.768421|       2022|          02|        06|   20220206|\n",
      "|988|2021-11-30T02:35:...|             |music|                   |            | 533384|  182515|    30|30m around a poin...|E05009377|residence|     y|       1929|2022-02-06 02:02:...|1644112923.768421|       2022|          02|        06|   20220206|\n",
      "|645|2021-10-16T21:37:...|             |music|                   | 10008293426| 532690|  183637|      |54 Gainsborough S...|E05009377|residence|     n|       1929|2022-01-25 15:09:...|1643123350.767608|       2022|          01|        25|   20220125|\n",
      "|726|2021-10-26T18:37:...|             |music|                   |100023157675| 533074|  187499|      |Oak Tree Communit...|E05009387| business|      |       1934|2022-02-10 02:01:...|1644458517.584877|       2022|          02|        10|   20220210|\n",
      "|975|2021-11-28T10:10:...|             |music|                   |100021058929| 533642|  184312|      |131 Freshfield Av...|E05009381|residence|     ?|       1931|2022-02-10 02:01:...|1644458517.584877|       2022|          02|        10|   20220210|\n",
      "|719|2021-10-26T00:19:...|             |other|Other type of noise| 10008255797| 535571|  185847|      |First Floor And S...|E05009380|residence|     y|       1930|2022-01-31 02:01:...| 1643594515.07263|       2022|          01|        31|   20220131|\n",
      "|650|2021-10-17T09:32:...|             |music|                   |100021025104| 533201|  184788|      |115 Balls Pond Ro...|E05009371|residence|     ?|       1926|2022-02-03 02:01:...|1643853710.435463|       2022|          02|        03|   20220203|\n",
      "|681|2021-10-21T12:04:...|             |music|                   |100023157753| 533976|  186970|      |Simon Marks Prima...|E05009368|residence|     y|       1924|2022-02-03 02:01:...|1643853710.435463|       2022|          02|        03|   20220203|\n",
      "|969|2021-11-27T14:51:...|             |music|                   |            | 535326|  186038|    30|30m around a poin...|E05009380|residence|     ?|       1930|2022-01-31 02:01:...| 1643594515.07263|       2022|          01|        31|   20220131|\n",
      "|836|2021-11-09T14:37:...|             |alarm|                   |            | 536717|  185774|   800|800m around a poi...|E05009379| business|      |       1930|2022-01-27 02:01:...|1643248917.586418|       2022|          01|        27|   20220127|\n",
      "|783|2021-11-03T12:59:...|             |music|                   |100021035367| 533285|  182470|      |Flat 24, 104-108 ...|E05009377|residence|     y|       1929|2022-02-02 02:01:...| 1643767319.59069|       2022|          02|        02|   20220202|\n",
      "|533|2021-10-02T16:17:...|             | road|                   |100021045507| 532184|  187379|      |Flat 7, Nathaniel...|E05009387|residence|     ?|       1934|2022-02-05 02:02:...|1644026529.888029|       2022|          02|        05|   20220205|\n",
      "|885|2021-11-15T22:42:...|             |alarm|                   |100021055944| 533012|  186547|      |82 Denman House, ...|E05009369| business|      |       1925|2022-02-02 02:01:...| 1643767319.59069|       2022|          02|        02|   20220202|\n",
      "|605|2021-10-11T19:02:...|             |  car|                   | 10008325303| 533590|  184772|      |Flat 7, Ocean Hou...|E05009370|residence|     ?|       1925|2022-02-08 02:01:...|1644285718.432042|       2022|          02|        08|   20220208|\n",
      "|663|2021-10-19T09:24:...|             |other|Other type of noise|            | 536785|  185285|   180|180m around (5367...|E05009374|residence|     y|       1927|2022-01-30 02:02:...|1643508123.872232|       2022|          01|        30|   20220130|\n",
      "|820|2021-11-07T10:05:...|             |music|                   | 10008277316| 534453|  184038|      |134C, Lansdowne D...|E05009381| business|      |       1931|2022-02-09 02:01:...|1644372113.995012|       2022|          02|        09|   20220209|\n",
      "+---+--------------------+-------------+-----+-------------------+------------+-------+--------+------+--------------------+---------+---------+------+-----------+--------------------+-----------------+-----------+------------+----------+-----------+\n",
      "only showing top 20 rows"
     ]
    }
   ],
   "source": [
    "df=source_data.toDF()\n",
    "df.show()"
   ]
  },
  {
   "cell_type": "code",
   "execution_count": 17,
   "id": "5c22ce42-46bf-47ce-a59e-3318a906131a",
   "metadata": {},
   "outputs": [
    {
     "data": {
      "application/vnd.jupyter.widget-view+json": {
       "model_id": "",
       "version_major": 2,
       "version_minor": 0
      },
      "text/plain": [
       "FloatProgress(value=0.0, bar_style='info', description='Progress:', layout=Layout(height='25px', width='50%'),…"
      ]
     },
     "metadata": {},
     "output_type": "display_data"
    }
   ],
   "source": [
    "udfConvert = udf(OSGB36toWGS84, ArrayType(DoubleType()))\n",
    "df = df.withColumn('latlon', udfConvert(df['easting'], df['northing']))\n",
    "df = df.withColumn('lat', df['latlon'].getItem(0))\n",
    "df = df.withColumn('lon', df['latlon'].getItem(1))"
   ]
  },
  {
   "cell_type": "code",
   "execution_count": 18,
   "id": "ad93066d-3f69-431b-811f-70e9525532dd",
   "metadata": {},
   "outputs": [
    {
     "data": {
      "application/vnd.jupyter.widget-view+json": {
       "model_id": "",
       "version_major": 2,
       "version_minor": 0
      },
      "text/plain": [
       "FloatProgress(value=0.0, bar_style='info', description='Progress:', layout=Layout(height='25px', width='50%'),…"
      ]
     },
     "metadata": {},
     "output_type": "display_data"
    },
    {
     "name": "stdout",
     "output_type": "stream",
     "text": [
      "root\n",
      " |-- id: string (nullable = true)\n",
      " |-- created: string (nullable = true)\n",
      " |-- created_by_id: string (nullable = true)\n",
      " |-- kind: string (nullable = true)\n",
      " |-- kind_other: string (nullable = true)\n",
      " |-- uprn: string (nullable = true)\n",
      " |-- easting: double (nullable = true)\n",
      " |-- northing: double (nullable = true)\n",
      " |-- radius: string (nullable = true)\n",
      " |-- location_cache: string (nullable = true)\n",
      " |-- ward: string (nullable = true)\n",
      " |-- where: string (nullable = true)\n",
      " |-- estate: string (nullable = true)\n",
      " |-- assigned_id: string (nullable = true)\n",
      " |-- import_datetime: timestamp (nullable = true)\n",
      " |-- import_timestamp: string (nullable = true)\n",
      " |-- import_year: string (nullable = true)\n",
      " |-- import_month: string (nullable = true)\n",
      " |-- import_day: string (nullable = true)\n",
      " |-- import_date: string (nullable = true)\n",
      " |-- latlon: array (nullable = true)\n",
      " |    |-- element: double (containsNull = true)\n",
      " |-- lat: double (nullable = true)\n",
      " |-- lon: double (nullable = true)"
     ]
    }
   ],
   "source": [
    "df.printSchema()"
   ]
  },
  {
   "cell_type": "code",
   "execution_count": 19,
   "id": "0d9d0b95-25de-4a66-8938-02f19ba02979",
   "metadata": {},
   "outputs": [
    {
     "data": {
      "application/vnd.jupyter.widget-view+json": {
       "model_id": "",
       "version_major": 2,
       "version_minor": 0
      },
      "text/plain": [
       "FloatProgress(value=0.0, bar_style='info', description='Progress:', layout=Layout(height='25px', width='50%'),…"
      ]
     },
     "metadata": {},
     "output_type": "display_data"
    },
    {
     "name": "stdout",
     "output_type": "stream",
     "text": [
      "+---+--------------------+-------------+-----+-------------------+------------+--------+--------+------+--------------------+---------+---------+------+-----------+--------------------+-----------------+-----------+------------+----------+-----------+--------------------+------------------+--------------------+\n",
      "| id|             created|created_by_id| kind|         kind_other|        uprn| easting|northing|radius|      location_cache|     ward|    where|estate|assigned_id|     import_datetime| import_timestamp|import_year|import_month|import_day|import_date|              latlon|               lat|                 lon|\n",
      "+---+--------------------+-------------+-----+-------------------+------------+--------+--------+------+--------------------+---------+---------+------+-----------+--------------------+-----------------+-----------+------------+----------+-----------+--------------------+------------------+--------------------+\n",
      "|680|2021-10-21T08:40:...|             |   tv|                   |            |532461.0|186439.0|   180|180m around a poi...|E05009369|residence|     y|       1925|2022-02-08 02:01:...|1644285718.432042|       2022|          02|        08|   20220208|[51.5612833406005...|51.561283340600525|-0.09049697583770576|\n",
      "|856|2021-11-12T06:31:...|             |other|Other type of noise| 10008346845|532825.0|183684.0|      |Flat 103, Mono To...|E05009377|residence|     y|       1929|2022-02-01 02:02:...|1643680922.809401|       2022|          02|        01|   20220201|[51.5364403747940...| 51.53644037479406|-0.08628822433990509|\n",
      "|531|2021-10-02T07:44:...|             |music|                   |100021081617|533737.0|183122.0|      |Flat 373, Fellows...|E05009375|residence|     ?|       1928|2022-02-08 02:01:...|1644285718.432042|       2022|          02|        08|   20220208|[51.5311749367298...|  51.5311749367298|-0.07336000410507588|\n",
      "|960|2021-11-26T18:22:...|             |music|                   |            |532941.0|186503.0|    30|30m around a poin...|E05009369|residence|     y|       1925|2022-01-28 02:01:...|1643335310.674426|       2022|          01|        28|   20220128|[51.5617456360018...| 51.56174563600187|-0.08355242195252226|\n",
      "|981|2021-11-29T08:57:...|             |  car|                   |100021055101|532425.0|186751.0|      |Flat 2, 12 Lordsh...|E05009369|residence|     y|       1925|2022-02-06 02:02:...|1644112923.768421|       2022|          02|        06|   20220206|[51.5640955346464...|  51.5640955346464|-0.09089857802887337|\n",
      "|988|2021-11-30T02:35:...|             |music|                   |            |533384.0|182515.0|    30|30m around a poin...|E05009377|residence|     y|       1929|2022-02-06 02:02:...|1644112923.768421|       2022|          02|        06|   20220206|[51.5258036418032...| 51.52580364180329|-0.07867564165362116|\n",
      "|645|2021-10-16T21:37:...|             |music|                   | 10008293426|532690.0|183637.0|      |54 Gainsborough S...|E05009377|residence|     n|       1929|2022-01-25 15:09:...|1643123350.767608|       2022|          01|        25|   20220125|[51.5360497330246...| 51.53604973302461|-0.08825122092460058|\n",
      "|726|2021-10-26T18:37:...|             |music|                   |100023157675|533074.0|187499.0|      |Oak Tree Communit...|E05009387| business|      |       1934|2022-02-10 02:01:...|1644458517.584877|       2022|          02|        10|   20220210|[51.5706646718505...| 51.57066467185055|-0.08125810595501405|\n",
      "|975|2021-11-28T10:10:...|             |music|                   |100021058929|533642.0|184312.0|      |131 Freshfield Av...|E05009381|residence|     ?|       1931|2022-02-10 02:01:...|1644458517.584877|       2022|          02|        10|   20220210|[51.5418911384596...| 51.54189113845968|-0.07427743129750043|\n",
      "|719|2021-10-26T00:19:...|             |other|Other type of noise| 10008255797|535571.0|185847.0|      |First Floor And S...|E05009380|residence|     y|       1930|2022-01-31 02:01:...| 1643594515.07263|       2022|          01|        31|   20220131|[51.5552252601514...| 51.55522526015141|-0.04588756975142209|\n",
      "|650|2021-10-17T09:32:...|             |music|                   |100021025104|533201.0|184788.0|      |115 Balls Pond Ro...|E05009371|residence|     ?|       1926|2022-02-03 02:01:...|1643853710.435463|       2022|          02|        03|   20220203|[51.5462727936435...|51.546272793643546| -0.0804527916494614|\n",
      "|681|2021-10-21T12:04:...|             |music|                   |100023157753|533976.0|186970.0|      |Simon Marks Prima...|E05009368|residence|     y|       1924|2022-02-03 02:01:...|1643853710.435463|       2022|          02|        03|   20220203|[51.5656975333300...| 51.56569753333006|  -0.068452497183098|\n",
      "|969|2021-11-27T14:51:...|             |music|                   |            |535326.0|186038.0|    30|30m around a poin...|E05009380|residence|     ?|       1930|2022-01-31 02:01:...| 1643594515.07263|       2022|          01|        31|   20220131|[51.5570003881431...| 51.55700038814319|-0.04934586461489525|\n",
      "|836|2021-11-09T14:37:...|             |alarm|                   |            |536717.0|185774.0|   800|800m around a poi...|E05009379| business|      |       1930|2022-01-27 02:01:...|1643248917.586418|       2022|          01|        27|   20220127|[51.5542929633127...|51.554292963312754|-0.02939623670746486|\n",
      "|783|2021-11-03T12:59:...|             |music|                   |100021035367|533285.0|182470.0|      |Flat 24, 104-108 ...|E05009377|residence|     y|       1929|2022-02-02 02:01:...| 1643767319.59069|       2022|          02|        02|   20220202|[51.5254226079247...| 51.52542260792471|-0.08011886529029481|\n",
      "|533|2021-10-02T16:17:...|             | road|                   |100021045507|532184.0|187379.0|      |Flat 7, Nathaniel...|E05009387|residence|     ?|       1934|2022-02-05 02:02:...|1644026529.888029|       2022|          02|        05|   20220205|[51.5697954698570...| 51.56979546985701|-0.09413742585357836|\n",
      "|885|2021-11-15T22:42:...|             |alarm|                   |100021055944|533012.0|186547.0|      |82 Denman House, ...|E05009369| business|      |       1925|2022-02-02 02:01:...| 1643767319.59069|       2022|          02|        02|   20220202|[51.5621243100762...|51.562124310076285|-0.08251214120849491|\n",
      "|605|2021-10-11T19:02:...|             |  car|                   | 10008325303|533590.0|184772.0|      |Flat 7, Ocean Hou...|E05009370|residence|     ?|       1925|2022-02-08 02:01:...|1644285718.432042|       2022|          02|        08|   20220208|[51.5460371435076...|51.546037143507604|-0.07485234947489933|\n",
      "|663|2021-10-19T09:24:...|             |other|Other type of noise|            |536785.0|185285.0|   180|180m around (5367...|E05009374|residence|     y|       1927|2022-01-30 02:02:...|1643508123.872232|       2022|          01|        30|   20220130|[51.5498823132351...| 51.54988231323511|-0.02860602527392202|\n",
      "|820|2021-11-07T10:05:...|             |music|                   | 10008277316|534453.0|184038.0|      |134C, Lansdowne D...|E05009381| business|      |       1931|2022-02-09 02:01:...|1644372113.995012|       2022|          02|        09|   20220209|[51.5392364658139...| 51.53923646581395|-0.06269456236380812|\n",
      "+---+--------------------+-------------+-----+-------------------+------------+--------+--------+------+--------------------+---------+---------+------+-----------+--------------------+-----------------+-----------+------------+----------+-----------+--------------------+------------------+--------------------+\n",
      "only showing top 20 rows"
     ]
    }
   ],
   "source": [
    "df.show()"
   ]
  },
  {
   "cell_type": "code",
   "execution_count": null,
   "id": "1e0d1582-b77f-487f-bd65-ea01ec94e5bc",
   "metadata": {},
   "outputs": [],
   "source": []
  }
 ],
 "metadata": {
  "kernelspec": {
   "display_name": "Glue Spark - Local (PySpark)",
   "language": "python",
   "name": "pysparkkernel"
  },
  "language_info": {
   "codemirror_mode": {
    "name": "python",
    "version": 3
   },
   "file_extension": ".py",
   "mimetype": "text/x-python",
   "name": "pyspark",
   "pygments_lexer": "python3"
  }
 },
 "nbformat": 4,
 "nbformat_minor": 5
}
