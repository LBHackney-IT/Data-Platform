{
 "cells": [
  {
   "cell_type": "markdown",
   "id": "ad02d05f",
   "metadata": {},
   "source": [
    "# Loading tables from the Tascomi API\n",
    "\n",
    "This notebook allows the user to test the Tascomi API endpoint for a specified table, and view output data within a Pandas dataframe. This notebook is intended for local use."
   ]
  },
  {
   "cell_type": "markdown",
   "id": "91fdb6e5",
   "metadata": {},
   "source": [
    "## Import required modules"
   ]
  },
  {
   "cell_type": "code",
   "execution_count": null,
   "id": "c67bcfbe",
   "metadata": {},
   "outputs": [],
   "source": [
    "import base64\n",
    "from datetime import date, datetime, timedelta\n",
    "from dateutil import tz\n",
    "import hmac, hashlib\n",
    "import pandas as pd\n",
    "import requests\n",
    "import time\n",
    "\n",
    "pd.set_option('display.max_rows', None)\n",
    "pd.set_option('display.max_columns', None)"
   ]
  },
  {
   "cell_type": "markdown",
   "id": "336d2161",
   "metadata": {},
   "source": [
    "## Set variables"
   ]
  },
  {
   "cell_type": "code",
   "execution_count": null,
   "id": "f56162d2",
   "metadata": {},
   "outputs": [],
   "source": [
    "PUBLIC_KEY = \"\"\n",
    "PRIVATE_KEY = \"\"\n",
    "public_key = PUBLIC_KEY.encode('utf-8')\n",
    "private_key = PRIVATE_KEY.encode('utf-8')\n",
    "\n",
    "table_to_read = \"\"\n",
    "request_uri = f'https://hackney-planning.tascomi.com/rest/v1/{table_to_read}'\n",
    "request_method = 'GET'"
   ]
  },
  {
   "cell_type": "markdown",
   "id": "d68c6233",
   "metadata": {},
   "source": [
    "## Define class for API request"
   ]
  },
  {
   "cell_type": "code",
   "execution_count": null,
   "id": "c4e01ff7",
   "metadata": {},
   "outputs": [],
   "source": [
    "# Python 2 code provided by supplier so amended to work in Python 3\n",
    "# Also ensured that the current time is set to local (London) timeszone so that BST accounted for\n",
    "class APIClass:\n",
    "    def __init__(self, public_key, private_key, request_uri, request_method, data=None, debug=False):\n",
    "        tz_ldn = tz.gettz('Europe/London')\n",
    "        now = datetime.now(tz_ldn)\n",
    "        the_time = now.strftime(\"%Y%m%d%H%M\").encode('utf-8')\n",
    "        print(f'The time: {the_time}\\n')\n",
    "        crypt = hashlib.sha256(public_key + the_time)\n",
    "        token = crypt.hexdigest().encode('utf-8')\n",
    "        hash = base64.b64encode(hmac.new(private_key, token, hashlib.sha256).hexdigest().encode('utf-8'))\n",
    "        self.token = token\n",
    "        self.public_key = public_key\n",
    "        self.private_key = private_key\n",
    "        self.request_uri = request_uri\n",
    "        self.request_method = request_method\n",
    "        self.hash = hash\n",
    "        self.debug = debug\n",
    "        self.data = data\n",
    "\n",
    "\n",
    "    def sendRequest(self):\n",
    "        headers = {'X-Public': self.public_key, 'X-Hash': self.hash, 'X-Debug': str(self.debug)}\n",
    "        payload = self.data\n",
    "\n",
    "        if self.request_method == 'GET':\n",
    "            r = requests.get(self.request_uri, params=payload, headers=headers)\n",
    "        elif self.request_method == 'POST':\n",
    "            r = requests.post(self.request_uri, params=payload, headers=headers)\n",
    "        elif self.request_method == 'PUT':\n",
    "            r = requests.put(self.request_uri, params=payload, headers=headers)\n",
    "        elif self.request_method == 'DELETE':\n",
    "            r = requests.delete(self.request_uri, params=payload, headers=headers)\n",
    "        \n",
    "        if r.status_code == 200:\n",
    "            print(f'Status code less than 400: {r.ok}, Status code: {r.status_code}\\n\\nHeaders: {r.headers}')\n",
    "            # return JSON\n",
    "            return r.json(), r.headers\n",
    "        else: \n",
    "            print(f'Status code: {r.status_code} - problem with request.')\n"
   ]
  },
  {
   "cell_type": "markdown",
   "id": "15b7b56b",
   "metadata": {},
   "source": [
    "## Send API request for specified Tascomi table"
   ]
  },
  {
   "cell_type": "code",
   "execution_count": null,
   "id": "06c1d383",
   "metadata": {
    "scrolled": false
   },
   "outputs": [],
   "source": [
    "newClass = APIClass(public_key, private_key, request_uri, request_method, data=None, debug=True)\n",
    "data, headers = newClass.sendRequest()\n",
    "\n",
    "num_results = headers.get('X-Number-Of-Results')\n",
    "page_num = headers.get('X-Page-Number')\n",
    "results_per_page = headers.get('X-Results-Per-Page')\n",
    "\n",
    "# Convert JSON to dataframe\n",
    "df = pd.DataFrame.from_dict(data)\n",
    "\n",
    "print(f'\\n\\nNumber results: {num_results}\\nPage number: {page_num}\\nResults per page: {results_per_page}\\n')\n",
    "df"
   ]
  },
  {
   "cell_type": "markdown",
   "id": "35e31945",
   "metadata": {},
   "source": [
    "## END"
   ]
  }
 ],
 "metadata": {
  "kernelspec": {
   "display_name": "Python 3 (ipykernel)",
   "language": "python",
   "name": "python3"
  },
  "language_info": {
   "codemirror_mode": {
    "name": "ipython",
    "version": 3
   },
   "file_extension": ".py",
   "mimetype": "text/x-python",
   "name": "python",
   "nbconvert_exporter": "python",
   "pygments_lexer": "ipython3",
   "version": "3.10.0"
  }
 },
 "nbformat": 4,
 "nbformat_minor": 5
}
