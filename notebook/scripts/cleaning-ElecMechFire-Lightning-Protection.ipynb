{
 "cells": [
  {
   "cell_type": "code",
   "execution_count": 8,
   "metadata": {},
   "outputs": [
    {
     "data": {
      "application/vnd.jupyter.widget-view+json": {
       "model_id": "",
       "version_major": 2,
       "version_minor": 0
      },
      "text/plain": [
       "FloatProgress(value=0.0, bar_style='info', description='Progress:', layout=Layout(height='25px', width='50%'),…"
      ]
     },
     "metadata": {},
     "output_type": "display_data"
    }
   ],
   "source": [
    "import sys\n",
    "sys.argv.append('--JOB_NAME')\n",
    "sys.argv.append('address-cleaning')\n",
    "\n",
    "sys.argv.append('--source_catalog_database')\n",
    "sys.argv.append('housing-repairs-raw-zone')\n",
    "\n",
    "sys.argv.append('--source_catalog_table')\n",
    "sys.argv.append('housing_lightning_protection_')\n",
    "\n",
    "sys.argv.append('--cleaned_repairs_s3_bucket_target')\n",
    "sys.argv.append('s3://dataplatform-stg-refined-zone/housing-repairs/repairs_electrical_mechanical_fire/housing_lightning_protection_/cleaned')"
   ]
  },
  {
   "cell_type": "code",
   "execution_count": 9,
   "metadata": {},
   "outputs": [
    {
     "data": {
      "application/vnd.jupyter.widget-view+json": {
       "model_id": "",
       "version_major": 2,
       "version_minor": 0
      },
      "text/plain": [
       "FloatProgress(value=0.0, bar_style='info', description='Progress:', layout=Layout(height='25px', width='50%'),…"
      ]
     },
     "metadata": {},
     "output_type": "display_data"
    }
   ],
   "source": [
    "from awsglue.transforms import *\n",
    "from awsglue.utils import getResolvedOptions\n",
    "from pyspark.context import SparkContext\n",
    "from awsglue.context import GlueContext\n",
    "from awsglue.job import Job\n",
    "from pyspark.ml import Pipeline\n",
    "from pyspark.ml.feature import RegexTokenizer, NGram, HashingTF, MinHashLSH\n",
    "from pyspark.sql.window import Window\n",
    "from pyspark.sql.functions import rank, col, trim, when, max, trim\n",
    "import pyspark.sql.functions as F\n",
    "from pyspark.sql.types import StringType\n",
    "from awsglue.dynamicframe import DynamicFrame\n",
    "\n",
    "def get_glue_env_var(key, default=\"none\"):\n",
    "    if f'--{key}' in sys.argv:\n",
    "        return getResolvedOptions(sys.argv, [key])[key]\n",
    "    else:\n",
    "        return default\n",
    "\n",
    "def getLatestPartitions(dfa):\n",
    "   dfa = dfa.where(col('import_year') == dfa.select(max('import_year')).first()[0])\n",
    "   dfa = dfa.where(col('import_month') == dfa.select(max('import_month')).first()[0])\n",
    "   dfa = dfa.where(col('import_day') == dfa.select(max('import_day')).first()[0])\n",
    "   return dfa"
   ]
  },
  {
   "cell_type": "code",
   "execution_count": 10,
   "metadata": {},
   "outputs": [
    {
     "data": {
      "application/vnd.jupyter.widget-view+json": {
       "model_id": "",
       "version_major": 2,
       "version_minor": 0
      },
      "text/plain": [
       "FloatProgress(value=0.0, bar_style='info', description='Progress:', layout=Layout(height='25px', width='50%'),…"
      ]
     },
     "metadata": {},
     "output_type": "display_data"
    }
   ],
   "source": [
    "args = getResolvedOptions(sys.argv, ['JOB_NAME'])\n",
    "\n",
    "source_catalog_database = get_glue_env_var('source_catalog_database', '')\n",
    "source_catalog_table    = get_glue_env_var('source_catalog_table', '')\n",
    "cleaned_repairs_s3_bucket_target = get_glue_env_var('cleaned_repairs_s3_bucket_target', '')\n",
    "\n",
    "\n",
    "sc = SparkContext.getOrCreate()\n",
    "glueContext = GlueContext(sc)\n",
    "logger = glueContext.get_logger()\n",
    "job = Job(glueContext)\n",
    "job.init(args['JOB_NAME'], args)\n"
   ]
  },
  {
   "cell_type": "code",
   "execution_count": 11,
   "metadata": {},
   "outputs": [
    {
     "data": {
      "application/vnd.jupyter.widget-view+json": {
       "model_id": "",
       "version_major": 2,
       "version_minor": 0
      },
      "text/plain": [
       "FloatProgress(value=0.0, bar_style='info', description='Progress:', layout=Layout(height='25px', width='50%'),…"
      ]
     },
     "metadata": {},
     "output_type": "display_data"
    }
   ],
   "source": [
    "# logger.info('Fetch Source Data')\n",
    "source_data = glueContext.create_dynamic_frame.from_catalog(\n",
    "    name_space=source_catalog_database,\n",
    "    table_name=source_catalog_table,\n",
    ") \n",
    "\n",
    "df = source_data.toDF()\n",
    "df = getLatestPartitions(df)"
   ]
  },
  {
   "cell_type": "code",
   "execution_count": 12,
   "metadata": {},
   "outputs": [
    {
     "data": {
      "application/vnd.jupyter.widget-view+json": {
       "model_id": "",
       "version_major": 2,
       "version_minor": 0
      },
      "text/plain": [
       "FloatProgress(value=0.0, bar_style='info', description='Progress:', layout=Layout(height='25px', width='50%'),…"
      ]
     },
     "metadata": {},
     "output_type": "display_data"
    },
    {
     "name": "stdout",
     "output_type": "stream",
     "text": [
      "root\n",
      " |-- Address: string (nullable = true)\n",
      " |-- Description: string (nullable = true)\n",
      " |-- Date: string (nullable = true)\n",
      " |-- temp_order_number: string (nullable = true)\n",
      " |-- priority_code: string (nullable = true)\n",
      " |-- SOR: string (nullable = true)\n",
      " |-- Cost: string (nullable = true)\n",
      " |-- Subjective: string (nullable = true)\n",
      " |-- contractor's_own_ref._no: string (nullable = true)\n",
      " |-- new_uhw_number: string (nullable = true)\n",
      " |-- requested_by: string (nullable = true)\n",
      " |-- import_datetime: timestamp (nullable = true)\n",
      " |-- import_timestamp: string (nullable = true)\n",
      " |-- import_year: string (nullable = true)\n",
      " |-- import_month: string (nullable = true)\n",
      " |-- import_day: string (nullable = true)\n",
      " |-- import_date: string (nullable = true)"
     ]
    }
   ],
   "source": [
    "df.printSchema()"
   ]
  },
  {
   "cell_type": "code",
   "execution_count": 14,
   "metadata": {},
   "outputs": [
    {
     "data": {
      "application/vnd.jupyter.widget-view+json": {
       "model_id": "",
       "version_major": 2,
       "version_minor": 0
      },
      "text/plain": [
       "FloatProgress(value=0.0, bar_style='info', description='Progress:', layout=Layout(height='25px', width='50%'),…"
      ]
     },
     "metadata": {},
     "output_type": "display_data"
    },
    {
     "name": "stdout",
     "output_type": "stream",
     "text": [
      "root\n",
      " |-- address: string (nullable = true)\n",
      " |-- description: string (nullable = true)\n",
      " |-- date: string (nullable = true)\n",
      " |-- temp_order_number: string (nullable = true)\n",
      " |-- priority_code: string (nullable = true)\n",
      " |-- sor: string (nullable = true)\n",
      " |-- cost: string (nullable = true)\n",
      " |-- subjective: string (nullable = true)\n",
      " |-- contractor's_own_ref._no: string (nullable = true)\n",
      " |-- new_uhw_number: string (nullable = true)\n",
      " |-- requested_by: string (nullable = true)\n",
      " |-- import_datetime: timestamp (nullable = true)\n",
      " |-- import_timestamp: string (nullable = true)\n",
      " |-- import_year: string (nullable = true)\n",
      " |-- import_month: string (nullable = true)\n",
      " |-- import_day: string (nullable = true)\n",
      " |-- import_date: string (nullable = true)"
     ]
    }
   ],
   "source": [
    "# clean up column names\n",
    "logger.info('clean up column names')\n",
    "df2 = df.toDF(*[c.lower().replace(' ', '_') for c in df.columns])\n",
    "df2 = df2.toDF(*[c.lower().replace('-', '_') for c in df.columns])\n",
    "df2 = df2.toDF(*[c.lower().replace('__', '_') for c in df.columns])\n",
    "df2.printSchema()"
   ]
  },
  {
   "cell_type": "code",
   "execution_count": 16,
   "metadata": {},
   "outputs": [
    {
     "data": {
      "application/vnd.jupyter.widget-view+json": {
       "model_id": "",
       "version_major": 2,
       "version_minor": 0
      },
      "text/plain": [
       "FloatProgress(value=0.0, bar_style='info', description='Progress:', layout=Layout(height='25px', width='50%'),…"
      ]
     },
     "metadata": {},
     "output_type": "display_data"
    }
   ],
   "source": [
    "logger.info('convert timestamp and date columns to datetime / date field types')\n",
    "df2 = df2.withColumn('date', F.to_date('date', \"dd/MM/yyyy\"))"
   ]
  },
  {
   "cell_type": "code",
   "execution_count": 17,
   "metadata": {},
   "outputs": [
    {
     "data": {
      "application/vnd.jupyter.widget-view+json": {
       "model_id": "",
       "version_major": 2,
       "version_minor": 0
      },
      "text/plain": [
       "FloatProgress(value=0.0, bar_style='info', description='Progress:', layout=Layout(height='25px', width='50%'),…"
      ]
     },
     "metadata": {},
     "output_type": "display_data"
    },
    {
     "name": "stdout",
     "output_type": "stream",
     "text": [
      "root\n",
      " |-- property_address: string (nullable = true)\n",
      " |-- description_of_work: string (nullable = true)\n",
      " |-- datetime_raised: date (nullable = true)\n",
      " |-- temp_order_number_full: string (nullable = true)\n",
      " |-- work_priority_description: string (nullable = true)\n",
      " |-- sor: string (nullable = true)\n",
      " |-- order_value: string (nullable = true)\n",
      " |-- budget_code: string (nullable = true)\n",
      " |-- contractor's_own_ref._no: string (nullable = true)\n",
      " |-- new_uhw_number: string (nullable = true)\n",
      " |-- operative: string (nullable = true)\n",
      " |-- import_datetime: timestamp (nullable = true)\n",
      " |-- import_timestamp: string (nullable = true)\n",
      " |-- import_year: string (nullable = true)\n",
      " |-- import_month: string (nullable = true)\n",
      " |-- import_day: string (nullable = true)\n",
      " |-- import_date: string (nullable = true)\n",
      " |-- data_source: string (nullable = false)"
     ]
    }
   ],
   "source": [
    "# add new data source column to specify which repairs sheet the repair came from\n",
    "df2 = df2.withColumn('data_source', F.lit('Lighting Protection'))\n",
    "\n",
    "# # rename column names\n",
    "df2 = df2.withColumnRenamed('date', 'datetime_raised') \\\n",
    "    .withColumnRenamed('requested_by', 'operative') \\\n",
    "    .withColumnRenamed('address', 'property_address') \\\n",
    "    .withColumnRenamed('description', 'description_of_work') \\\n",
    "    .withColumnRenamed('priority_code', 'work_priority_description') \\\n",
    "    .withColumnRenamed('temp_order_number', 'temp_order_number_full') \\\n",
    "    .withColumnRenamed('cost', 'order_value')\\\n",
    "    .withColumnRenamed('subjective', 'budget_code')\\\n",
    "    .withColumnRenamed('contractor\\'s_own_ref', 'contractor_ref')\n",
    "\n",
    "df2.printSchema()"
   ]
  },
  {
   "cell_type": "code",
   "execution_count": 18,
   "metadata": {},
   "outputs": [
    {
     "data": {
      "application/vnd.jupyter.widget-view+json": {
       "model_id": "",
       "version_major": 2,
       "version_minor": 0
      },
      "text/plain": [
       "FloatProgress(value=0.0, bar_style='info', description='Progress:', layout=Layout(height='25px', width='50%'),…"
      ]
     },
     "metadata": {},
     "output_type": "display_data"
    }
   ],
   "source": [
    "def map_repair_priority(code):\n",
    "    if code == 'Immediate':\n",
    "        return 1\n",
    "    elif code == 'Emergency':\n",
    "        return 2\n",
    "    elif code == 'Urgent':\n",
    "        return 3\n",
    "    elif code == 'Normal':\n",
    "        return 4\n",
    "    else:\n",
    "        return None\n",
    "\n",
    "# # convert to a UDF Function by passing in the function and the return type of function (string in this case)\n",
    "udf_map_repair_priority = F.udf(map_repair_priority, StringType())\n",
    "# apply function\n",
    "df2 = df2.withColumn('work_priority_priority_code', udf_map_repair_priority('work_priority_description'))"
   ]
  },
  {
   "cell_type": "code",
   "execution_count": 19,
   "metadata": {},
   "outputs": [
    {
     "data": {
      "application/vnd.jupyter.widget-view+json": {
       "model_id": "",
       "version_major": 2,
       "version_minor": 0
      },
      "text/plain": [
       "FloatProgress(value=0.0, bar_style='info', description='Progress:', layout=Layout(height='25px', width='50%'),…"
      ]
     },
     "metadata": {},
     "output_type": "display_data"
    },
    {
     "name": "stdout",
     "output_type": "stream",
     "text": [
      "-RECORD 0-------------------------------------------\n",
      " property_address            | Chadworth House 1... \n",
      " description_of_work         | Annual Lightning ... \n",
      " datetime_raised             | null                 \n",
      " temp_order_number_full      | ACLP0812231          \n",
      " work_priority_description   | Normal               \n",
      " sor                         | LPH9P003             \n",
      " order_value                 | 73.45                \n",
      " budget_code                 | 200065               \n",
      " contractor's_own_ref._no    | nan                  \n",
      " new_uhw_number              | nan                  \n",
      " operative                   | A. Childs            \n",
      " import_datetime             | 2021-07-09 13:35:... \n",
      " import_timestamp            | 1625837731.762736    \n",
      " import_year                 | 2021                 \n",
      " import_month                | 07                   \n",
      " import_day                  | 09                   \n",
      " import_date                 | 20210709             \n",
      " data_source                 | Lighting Protection  \n",
      " work_priority_priority_code | 4                    \n",
      "-RECORD 1-------------------------------------------\n",
      " property_address            | Ladybower Court      \n",
      " description_of_work         | Alterations and u... \n",
      " datetime_raised             | null                 \n",
      " temp_order_number_full      | ACLP15032102         \n",
      " work_priority_description   | Normal               \n",
      " sor                         | Quote                \n",
      " order_value                 | 18662.01             \n",
      " budget_code                 | C1                   \n",
      " contractor's_own_ref._no    | nan                  \n",
      " new_uhw_number              | nan                  \n",
      " operative                   | A. Childs            \n",
      " import_datetime             | 2021-07-09 13:35:... \n",
      " import_timestamp            | 1625837731.762736    \n",
      " import_year                 | 2021                 \n",
      " import_month                | 07                   \n",
      " import_day                  | 09                   \n",
      " import_date                 | 20210709             \n",
      " data_source                 | Lighting Protection  \n",
      " work_priority_priority_code | 4                    \n",
      "-RECORD 2-------------------------------------------\n",
      " property_address            | Clapton Common 34... \n",
      " description_of_work         | Annual Lightning ... \n",
      " datetime_raised             | null                 \n",
      " temp_order_number_full      | ACLP0812222          \n",
      " work_priority_description   | Normal               \n",
      " sor                         | LPH9P003             \n",
      " order_value                 | 73.45                \n",
      " budget_code                 | 200065               \n",
      " contractor's_own_ref._no    | nan                  \n",
      " new_uhw_number              | nan                  \n",
      " operative                   | A. Childs            \n",
      " import_datetime             | 2021-07-09 13:35:... \n",
      " import_timestamp            | 1625837731.762736    \n",
      " import_year                 | 2021                 \n",
      " import_month                | 07                   \n",
      " import_day                  | 09                   \n",
      " import_date                 | 20210709             \n",
      " data_source                 | Lighting Protection  \n",
      " work_priority_priority_code | 4                    \n",
      "-RECORD 3-------------------------------------------\n",
      " property_address            | Chadworth House 5... \n",
      " description_of_work         | Annual Lightning ... \n",
      " datetime_raised             | null                 \n",
      " temp_order_number_full      | ACLP0812232          \n",
      " work_priority_description   | Normal               \n",
      " sor                         | LPH9P003             \n",
      " order_value                 | 73.45                \n",
      " budget_code                 | 200065               \n",
      " contractor's_own_ref._no    | nan                  \n",
      " new_uhw_number              | nan                  \n",
      " operative                   | A. Childs            \n",
      " import_datetime             | 2021-07-09 13:35:... \n",
      " import_timestamp            | 1625837731.762736    \n",
      " import_year                 | 2021                 \n",
      " import_month                | 07                   \n",
      " import_day                  | 09                   \n",
      " import_date                 | 20210709             \n",
      " data_source                 | Lighting Protection  \n",
      " work_priority_priority_code | 4                    \n",
      "-RECORD 4-------------------------------------------\n",
      " property_address            | nan                  \n",
      " description_of_work         | nan                  \n",
      " datetime_raised             | null                 \n",
      " temp_order_number_full      | nan                  \n",
      " work_priority_description   | None                 \n",
      " sor                         | None                 \n",
      " order_value                 | None                 \n",
      " budget_code                 | None                 \n",
      " contractor's_own_ref._no    | nan                  \n",
      " new_uhw_number              | nan                  \n",
      " operative                   | None                 \n",
      " import_datetime             | 2021-07-09 13:35:... \n",
      " import_timestamp            | 1625837731.762736    \n",
      " import_year                 | 2021                 \n",
      " import_month                | 07                   \n",
      " import_day                  | 09                   \n",
      " import_date                 | 20210709             \n",
      " data_source                 | Lighting Protection  \n",
      " work_priority_priority_code | null                 \n",
      "-RECORD 5-------------------------------------------\n",
      " property_address            | nan                  \n",
      " description_of_work         | nan                  \n",
      " datetime_raised             | null                 \n",
      " temp_order_number_full      | nan                  \n",
      " work_priority_description   | None                 \n",
      " sor                         | None                 \n",
      " order_value                 | None                 \n",
      " budget_code                 | None                 \n",
      " contractor's_own_ref._no    | nan                  \n",
      " new_uhw_number              | nan                  \n",
      " operative                   | None                 \n",
      " import_datetime             | 2021-07-09 13:35:... \n",
      " import_timestamp            | 1625837731.762736    \n",
      " import_year                 | 2021                 \n",
      " import_month                | 07                   \n",
      " import_day                  | 09                   \n",
      " import_date                 | 20210709             \n",
      " data_source                 | Lighting Protection  \n",
      " work_priority_priority_code | null                 \n",
      "-RECORD 6-------------------------------------------\n",
      " property_address            | nan                  \n",
      " description_of_work         | nan                  \n",
      " datetime_raised             | null                 \n",
      " temp_order_number_full      | nan                  \n",
      " work_priority_description   | None                 \n",
      " sor                         | None                 \n",
      " order_value                 | None                 \n",
      " budget_code                 | None                 \n",
      " contractor's_own_ref._no    | nan                  \n",
      " new_uhw_number              | nan                  \n",
      " operative                   | None                 \n",
      " import_datetime             | 2021-07-09 13:35:... \n",
      " import_timestamp            | 1625837731.762736    \n",
      " import_year                 | 2021                 \n",
      " import_month                | 07                   \n",
      " import_day                  | 09                   \n",
      " import_date                 | 20210709             \n",
      " data_source                 | Lighting Protection  \n",
      " work_priority_priority_code | null                 \n",
      "-RECORD 7-------------------------------------------\n",
      " property_address            | nan                  \n",
      " description_of_work         | nan                  \n",
      " datetime_raised             | null                 \n",
      " temp_order_number_full      | nan                  \n",
      " work_priority_description   | None                 \n",
      " sor                         | None                 \n",
      " order_value                 | None                 \n",
      " budget_code                 | None                 \n",
      " contractor's_own_ref._no    | nan                  \n",
      " new_uhw_number              | nan                  \n",
      " operative                   | None                 \n",
      " import_datetime             | 2021-07-09 13:35:... \n",
      " import_timestamp            | 1625837731.762736    \n",
      " import_year                 | 2021                 \n",
      " import_month                | 07                   \n",
      " import_day                  | 09                   \n",
      " import_date                 | 20210709             \n",
      " data_source                 | Lighting Protection  \n",
      " work_priority_priority_code | null                 \n",
      "-RECORD 8-------------------------------------------\n",
      " property_address            | nan                  \n",
      " description_of_work         | nan                  \n",
      " datetime_raised             | null                 \n",
      " temp_order_number_full      | nan                  \n",
      " work_priority_description   | None                 \n",
      " sor                         | None                 \n",
      " order_value                 | None                 \n",
      " budget_code                 | None                 \n",
      " contractor's_own_ref._no    | nan                  \n",
      " new_uhw_number              | nan                  \n",
      " operative                   | None                 \n",
      " import_datetime             | 2021-07-09 13:35:... \n",
      " import_timestamp            | 1625837731.762736    \n",
      " import_year                 | 2021                 \n",
      " import_month                | 07                   \n",
      " import_day                  | 09                   \n",
      " import_date                 | 20210709             \n",
      " data_source                 | Lighting Protection  \n",
      " work_priority_priority_code | null                 \n",
      "-RECORD 9-------------------------------------------\n",
      " property_address            | nan                  \n",
      " description_of_work         | nan                  \n",
      " datetime_raised             | null                 \n",
      " temp_order_number_full      | nan                  \n",
      " work_priority_description   | None                 \n",
      " sor                         | None                 \n",
      " order_value                 | None                 \n",
      " budget_code                 | None                 \n",
      " contractor's_own_ref._no    | nan                  \n",
      " new_uhw_number              | nan                  \n",
      " operative                   | None                 \n",
      " import_datetime             | 2021-07-09 13:35:... \n",
      " import_timestamp            | 1625837731.762736    \n",
      " import_year                 | 2021                 \n",
      " import_month                | 07                   \n",
      " import_day                  | 09                   \n",
      " import_date                 | 20210709             \n",
      " data_source                 | Lighting Protection  \n",
      " work_priority_priority_code | null                 \n",
      "-RECORD 10------------------------------------------\n",
      " property_address            | nan                  \n",
      " description_of_work         | nan                  \n",
      " datetime_raised             | null                 \n",
      " temp_order_number_full      | nan                  \n",
      " work_priority_description   | None                 \n",
      " sor                         | None                 \n",
      " order_value                 | None                 \n",
      " budget_code                 | None                 \n",
      " contractor's_own_ref._no    | nan                  \n",
      " new_uhw_number              | nan                  \n",
      " operative                   | None                 \n",
      " import_datetime             | 2021-07-09 13:35:... \n",
      " import_timestamp            | 1625837731.762736    \n",
      " import_year                 | 2021                 \n",
      " import_month                | 07                   \n",
      " import_day                  | 09                   \n",
      " import_date                 | 20210709             \n",
      " data_source                 | Lighting Protection  \n",
      " work_priority_priority_code | null                 \n",
      "-RECORD 11------------------------------------------\n",
      " property_address            | nan                  \n",
      " description_of_work         | nan                  \n",
      " datetime_raised             | null                 \n",
      " temp_order_number_full      | nan                  \n",
      " work_priority_description   | None                 \n",
      " sor                         | None                 \n",
      " order_value                 | None                 \n",
      " budget_code                 | None                 \n",
      " contractor's_own_ref._no    | nan                  \n",
      " new_uhw_number              | nan                  \n",
      " operative                   | None                 \n",
      " import_datetime             | 2021-07-09 13:35:... \n",
      " import_timestamp            | 1625837731.762736    \n",
      " import_year                 | 2021                 \n",
      " import_month                | 07                   \n",
      " import_day                  | 09                   \n",
      " import_date                 | 20210709             \n",
      " data_source                 | Lighting Protection  \n",
      " work_priority_priority_code | null                 \n",
      "-RECORD 12------------------------------------------\n",
      " property_address            | nan                  \n",
      " description_of_work         | nan                  \n",
      " datetime_raised             | null                 \n",
      " temp_order_number_full      | nan                  \n",
      " work_priority_description   | None                 \n",
      " sor                         | None                 \n",
      " order_value                 | None                 \n",
      " budget_code                 | None                 \n",
      " contractor's_own_ref._no    | nan                  \n",
      " new_uhw_number              | nan                  \n",
      " operative                   | None                 \n",
      " import_datetime             | 2021-07-09 13:35:... \n",
      " import_timestamp            | 1625837731.762736    \n",
      " import_year                 | 2021                 \n",
      " import_month                | 07                   \n",
      " import_day                  | 09                   \n",
      " import_date                 | 20210709             \n",
      " data_source                 | Lighting Protection  \n",
      " work_priority_priority_code | null                 \n",
      "-RECORD 13------------------------------------------\n",
      " property_address            | nan                  \n",
      " description_of_work         | nan                  \n",
      " datetime_raised             | null                 \n",
      " temp_order_number_full      | nan                  \n",
      " work_priority_description   | None                 \n",
      " sor                         | None                 \n",
      " order_value                 | None                 \n",
      " budget_code                 | None                 \n",
      " contractor's_own_ref._no    | nan                  \n",
      " new_uhw_number              | nan                  \n",
      " operative                   | None                 \n",
      " import_datetime             | 2021-07-09 13:35:... \n",
      " import_timestamp            | 1625837731.762736    \n",
      " import_year                 | 2021                 \n",
      " import_month                | 07                   \n",
      " import_day                  | 09                   \n",
      " import_date                 | 20210709             \n",
      " data_source                 | Lighting Protection  \n",
      " work_priority_priority_code | null                 \n",
      "-RECORD 14------------------------------------------\n",
      " property_address            | nan                  \n",
      " description_of_work         | nan                  \n",
      " datetime_raised             | null                 \n",
      " temp_order_number_full      | nan                  \n",
      " work_priority_description   | None                 \n",
      " sor                         | None                 \n",
      " order_value                 | None                 \n",
      " budget_code                 | None                 \n",
      " contractor's_own_ref._no    | nan                  \n",
      " new_uhw_number              | nan                  \n",
      " operative                   | None                 \n",
      " import_datetime             | 2021-07-09 13:35:... \n",
      " import_timestamp            | 1625837731.762736    \n",
      " import_year                 | 2021                 \n",
      " import_month                | 07                   \n",
      " import_day                  | 09                   \n",
      " import_date                 | 20210709             \n",
      " data_source                 | Lighting Protection  \n",
      " work_priority_priority_code | null                 \n",
      "-RECORD 15------------------------------------------\n",
      " property_address            | nan                  \n",
      " description_of_work         | nan                  \n",
      " datetime_raised             | null                 \n",
      " temp_order_number_full      | nan                  \n",
      " work_priority_description   | None                 \n",
      " sor                         | None                 \n",
      " order_value                 | None                 \n",
      " budget_code                 | None                 \n",
      " contractor's_own_ref._no    | nan                  \n",
      " new_uhw_number              | nan                  \n",
      " operative                   | None                 \n",
      " import_datetime             | 2021-07-09 13:35:... \n",
      " import_timestamp            | 1625837731.762736    \n",
      " import_year                 | 2021                 \n",
      " import_month                | 07                   \n",
      " import_day                  | 09                   \n",
      " import_date                 | 20210709             \n",
      " data_source                 | Lighting Protection  \n",
      " work_priority_priority_code | null                 \n",
      "-RECORD 16------------------------------------------\n",
      " property_address            | nan                  \n",
      " description_of_work         | nan                  \n",
      " datetime_raised             | null                 \n",
      " temp_order_number_full      | nan                  \n",
      " work_priority_description   | None                 \n",
      " sor                         | None                 \n",
      " order_value                 | None                 \n",
      " budget_code                 | None                 \n",
      " contractor's_own_ref._no    | nan                  \n",
      " new_uhw_number              | nan                  \n",
      " operative                   | None                 \n",
      " import_datetime             | 2021-07-09 13:35:... \n",
      " import_timestamp            | 1625837731.762736    \n",
      " import_year                 | 2021                 \n",
      " import_month                | 07                   \n",
      " import_day                  | 09                   \n",
      " import_date                 | 20210709             \n",
      " data_source                 | Lighting Protection  \n",
      " work_priority_priority_code | null                 \n",
      "-RECORD 17------------------------------------------\n",
      " property_address            | nan                  \n",
      " description_of_work         | nan                  \n",
      " datetime_raised             | null                 \n",
      " temp_order_number_full      | nan                  \n",
      " work_priority_description   | None                 \n",
      " sor                         | None                 \n",
      " order_value                 | None                 \n",
      " budget_code                 | None                 \n",
      " contractor's_own_ref._no    | nan                  \n",
      " new_uhw_number              | nan                  \n",
      " operative                   | None                 \n",
      " import_datetime             | 2021-07-09 13:35:... \n",
      " import_timestamp            | 1625837731.762736    \n",
      " import_year                 | 2021                 \n",
      " import_month                | 07                   \n",
      " import_day                  | 09                   \n",
      " import_date                 | 20210709             \n",
      " data_source                 | Lighting Protection  \n",
      " work_priority_priority_code | null                 \n",
      "-RECORD 18------------------------------------------\n",
      " property_address            | nan                  \n",
      " description_of_work         | nan                  \n",
      " datetime_raised             | null                 \n",
      " temp_order_number_full      | nan                  \n",
      " work_priority_description   | None                 \n",
      " sor                         | None                 \n",
      " order_value                 | None                 \n",
      " budget_code                 | None                 \n",
      " contractor's_own_ref._no    | nan                  \n",
      " new_uhw_number              | nan                  \n",
      " operative                   | None                 \n",
      " import_datetime             | 2021-07-09 13:35:... \n",
      " import_timestamp            | 1625837731.762736    \n",
      " import_year                 | 2021                 \n",
      " import_month                | 07                   \n",
      " import_day                  | 09                   \n",
      " import_date                 | 20210709             \n",
      " data_source                 | Lighting Protection  \n",
      " work_priority_priority_code | null                 \n",
      "-RECORD 19------------------------------------------\n",
      " property_address            | nan                  \n",
      " description_of_work         | nan                  \n",
      " datetime_raised             | null                 \n",
      " temp_order_number_full      | nan                  \n",
      " work_priority_description   | None                 \n",
      " sor                         | None                 \n",
      " order_value                 | None                 \n",
      " budget_code                 | None                 \n",
      " contractor's_own_ref._no    | nan                  \n",
      " new_uhw_number              | nan                  \n",
      " operative                   | None                 \n",
      " import_datetime             | 2021-07-09 13:35:... \n",
      " import_timestamp            | 1625837731.762736    \n",
      " import_year                 | 2021                 \n",
      " import_month                | 07                   \n",
      " import_day                  | 09                   \n",
      " import_date                 | 20210709             \n",
      " data_source                 | Lighting Protection  \n",
      " work_priority_priority_code | null                 \n",
      "only showing top 20 rows"
     ]
    }
   ],
   "source": [
    "df2.show(vertical=True)"
   ]
  },
  {
   "cell_type": "code",
   "execution_count": 20,
   "metadata": {},
   "outputs": [
    {
     "data": {
      "application/vnd.jupyter.widget-view+json": {
       "model_id": "",
       "version_major": 2,
       "version_minor": 0
      },
      "text/plain": [
       "FloatProgress(value=0.0, bar_style='info', description='Progress:', layout=Layout(height='25px', width='50%'),…"
      ]
     },
     "metadata": {},
     "output_type": "display_data"
    }
   ],
   "source": [
    "cleanedDataframe = DynamicFrame.fromDF(df2, glueContext, \"cleanedDataframe\")\n",
    "parquetData = glueContext.write_dynamic_frame.from_options(\n",
    "    frame=cleanedDataframe,\n",
    "    connection_type=\"s3\",\n",
    "    format=\"parquet\",\n",
    "    connection_options={\"path\": cleaned_repairs_s3_bucket_target,\"partitionKeys\": [\"import_year\", \"import_month\", \"import_day\", \"import_date\"]},\n",
    "    transformation_ctx=\"parquetData\")\n",
    "job.commit()"
   ]
  },
  {
   "cell_type": "code",
   "execution_count": null,
   "metadata": {},
   "outputs": [],
   "source": []
  }
 ],
 "metadata": {
  "kernelspec": {
   "display_name": "PySpark",
   "language": "",
   "name": "pysparkkernel"
  },
  "language_info": {
   "codemirror_mode": {
    "name": "python",
    "version": 3
   },
   "mimetype": "text/x-python",
   "name": "pyspark",
   "pygments_lexer": "python3"
  }
 },
 "nbformat": 4,
 "nbformat_minor": 4
}
