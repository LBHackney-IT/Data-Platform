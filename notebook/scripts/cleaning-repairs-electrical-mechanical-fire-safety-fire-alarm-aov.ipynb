{
 "cells": [
  {
   "cell_type": "code",
   "execution_count": null,
   "metadata": {},
   "outputs": [],
   "source": [
    "import sys\n",
    "sys.argv.append('--JOB_NAME')\n",
    "sys.argv.append('address-cleaning')\n",
    "\n",
    "sys.argv.append('--source_catalog_database')\n",
    "sys.argv.append('housing-repairs-raw-zone')\n",
    "\n",
    "sys.argv.append('--source_catalog_table')\n",
    "sys.argv.append('housing_repairs_fire_alarmaov')\n",
    "\n",
    "sys.argv.append('--cleaned_repairs_s3_bucket_target')\n",
    "sys.argv.append('s3://dataplatform-stg-refined-zone/housing-repairs/repairs-electrical-mechanical-fire/fire-alarmaov/cleaned')"
   ]
  },
  {
   "cell_type": "code",
   "execution_count": null,
   "metadata": {},
   "outputs": [],
   "source": [
    "import re\n",
    "import sys\n",
    "\n",
    "from awsglue.context import GlueContext\n",
    "from awsglue.dynamicframe import DynamicFrame\n",
    "from awsglue.job import Job\n",
    "from awsglue.transforms import *\n",
    "from awsglue.utils import getResolvedOptions\n",
    "from pyspark.context import SparkContext\n",
    "from pyspark.ml import Pipeline\n",
    "from pyspark.ml.feature import RegexTokenizer, NGram, HashingTF, MinHashLSH\n",
    "from pyspark.sql import types as t\n",
    "from pyspark.sql.window import Window\n",
    "from pyspark.sql.functions import rank, col, trim, when, max, trim\n",
    "import pyspark.sql.functions as F\n",
    "from pyspark.sql.functions import *\n",
    "from pyspark.sql.types import StringType, TimestampType\n",
    "\n",
    "\n",
    "def get_glue_env_var(key, default=\"none\"):\n",
    "    if f'--{key}' in sys.argv:\n",
    "        return getResolvedOptions(sys.argv, [key])[key]\n",
    "    else:\n",
    "        return default\n",
    "\n",
    "def getLatestPartitions(dfa):\n",
    "   dfa = dfa.where(col('import_year') == dfa.select(max('import_year')).first()[0])\n",
    "   dfa = dfa.where(col('import_month') == dfa.select(max('import_month')).first()[0])\n",
    "   dfa = dfa.where(col('import_day') == dfa.select(max('import_day')).first()[0])\n",
    "   return dfa"
   ]
  },
  {
   "cell_type": "code",
   "execution_count": null,
   "metadata": {},
   "outputs": [],
   "source": [
    "args = getResolvedOptions(sys.argv, ['JOB_NAME'])\n",
    "\n",
    "source_catalog_database = get_glue_env_var('source_catalog_database', '')\n",
    "source_catalog_table    = get_glue_env_var('source_catalog_table', '')\n",
    "cleaned_repairs_s3_bucket_target = get_glue_env_var('cleaned_repairs_s3_bucket_target', '')\n",
    "\n",
    "\n",
    "sc = SparkContext.getOrCreate()\n",
    "glueContext = GlueContext(sc)\n",
    "logger = glueContext.get_logger()\n",
    "job = Job(glueContext)\n",
    "job.init(args['JOB_NAME'], args)\n",
    "\n",
    "logger.info('Fetch Source Data')\n",
    "\n",
    "source_data = glueContext.create_dynamic_frame.from_catalog(\n",
    "    name_space=source_catalog_database,\n",
    "    table_name=source_catalog_table\n",
    ") \n",
    "\n",
    "df = source_data.toDF()\n",
    "df = getLatestPartitions(df)"
   ]
  },
  {
   "cell_type": "code",
   "execution_count": null,
   "metadata": {},
   "outputs": [],
   "source": [
    "# drop empty rows\n",
    "df2 = df.filter(df.address != 'nan')"
   ]
  },
  {
   "cell_type": "code",
   "execution_count": null,
   "metadata": {},
   "outputs": [],
   "source": [
    "df2.show(vertical=True)"
   ]
  },
  {
   "cell_type": "code",
   "execution_count": null,
   "metadata": {},
   "outputs": [],
   "source": [
    "logger.info('convert date columns to datetime / date field types')\n",
    "df2 = df2.withColumn('date', F.to_timestamp('date', 'dd.MM.yy'))\n",
    "\n",
    "df2.show(vertical=True)"
   ]
  },
  {
   "cell_type": "code",
   "execution_count": null,
   "metadata": {},
   "outputs": [],
   "source": [
    "# keep selected columns\n",
    "df2 = df2[['address',\n",
    "           'description',\n",
    "           'date',\n",
    "           'temp_order_number',\n",
    "           'priority_code',\n",
    "           'sor',\n",
    "           'cost',\n",
    "           'subjective',\n",
    "           'contractor_s_own_ref_no',\n",
    "           'contractor_job_status_complete_or_in_progress',\n",
    "           'date_completed',\n",
    "           'new_uhw_number', \n",
    "           'requested_by',\n",
    "           'import_datetime', \n",
    "           'import_timestamp', \n",
    "           'import_year', \n",
    "           'import_month', \n",
    "           'import_day', \n",
    "           'import_date']]"
   ]
  },
  {
   "cell_type": "code",
   "execution_count": null,
   "metadata": {},
   "outputs": [],
   "source": [
    "# add new data source column to specify which repairs sheet the repair came from\n",
    "df2 = df2.withColumn('data_source', F.lit('ElecMechFire - Fire Alarm AOV'))\n",
    "\n",
    "# rename column names\n",
    "df2 = df2.withColumnRenamed('address', 'property_address') \\\n",
    "    .withColumnRenamed('description', 'description_of_work') \\\n",
    "    .withColumnRenamed('date', 'datetime_raised') \\\n",
    "    .withColumnRenamed('temp_order_number', 'temp_order_number_full') \\\n",
    "    .withColumnRenamed('priority_code', 'work_priority_description') \\\n",
    "    .withColumnRenamed('cost', 'order_value') \\\n",
    "    .withColumnRenamed('subjective', 'budget_code') \\\n",
    "    .withColumnRenamed('contractor_s_own_ref_no', 'contractor_ref') \\\n",
    "    .withColumnRenamed('contractor_job_status_complete_or_in_progress', 'order_status') \\\n",
    "    .withColumnRenamed('date_completed', 'completed_date') \\\n",
    "    .withColumnRenamed('requested_by', 'operative')"
   ]
  },
  {
   "cell_type": "code",
   "execution_count": null,
   "metadata": {},
   "outputs": [],
   "source": [
    "# remove any spaces from 'work_priority_description' column so that values can be mapped where applicable\n",
    "df2 = df2.withColumn('work_priority_description', trim(df2.work_priority_description))\n",
    "\n",
    "df2 = df2.withColumn(\"work_priority_priority_code\", when(df2['work_priority_description'] == \"Immediate\", 1)\n",
    "                     .when(df2['work_priority_description'] == \"Emergency\", 2)\n",
    "                     .when(df2['work_priority_description'] == \"Urgent\", 3)\n",
    "                     .when(df2['work_priority_description'] == \"Normal\", 4)\n",
    "                     .otherwise(None))"
   ]
  },
  {
   "cell_type": "code",
   "execution_count": null,
   "metadata": {},
   "outputs": [],
   "source": [
    "df2.show(vertical=True)"
   ]
  },
  {
   "cell_type": "code",
   "execution_count": null,
   "metadata": {},
   "outputs": [],
   "source": [
    "df2.printSchema()"
   ]
  },
  {
   "cell_type": "code",
   "execution_count": null,
   "metadata": {},
   "outputs": [],
   "source": [
    "cleanedDataframe = DynamicFrame.fromDF(df2, glueContext, \"cleanedDataframe\")\n",
    "parquetData = glueContext.write_dynamic_frame.from_options(\n",
    "    frame=cleanedDataframe,\n",
    "    connection_type=\"s3\",\n",
    "    format=\"parquet\",\n",
    "    connection_options={\"path\": cleaned_repairs_s3_bucket_target,\"partitionKeys\": [\"import_year\", \"import_month\", \"import_day\", \"import_date\"]},\n",
    "    transformation_ctx=\"parquetData\")\n",
    "job.commit()"
   ]
  }
 ],
 "metadata": {
  "kernelspec": {
   "display_name": "PySpark",
   "language": "",
   "name": "pysparkkernel"
  },
  "language_info": {
   "codemirror_mode": {
    "name": "python",
    "version": 3
   },
   "mimetype": "text/x-python",
   "name": "pyspark",
   "pygments_lexer": "python3"
  }
 },
 "nbformat": 4,
 "nbformat_minor": 4
}
