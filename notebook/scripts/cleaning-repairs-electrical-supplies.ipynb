{
 "cells": [
  {
   "cell_type": "code",
   "execution_count": 1,
   "metadata": {},
   "outputs": [
    {
     "name": "stdout",
     "output_type": "stream",
     "text": [
      "Starting Spark application\n"
     ]
    },
    {
     "data": {
      "text/html": [
       "<table>\n",
       "<tr><th>ID</th><th>YARN Application ID</th><th>Kind</th><th>State</th><th>Spark UI</th><th>Driver log</th><th>Current session?</th></tr><tr><td>1</td><td>None</td><td>pyspark</td><td>idle</td><td></td><td></td><td>✔</td></tr></table>"
      ],
      "text/plain": [
       "<IPython.core.display.HTML object>"
      ]
     },
     "metadata": {},
     "output_type": "display_data"
    },
    {
     "data": {
      "application/vnd.jupyter.widget-view+json": {
       "model_id": "",
       "version_major": 2,
       "version_minor": 0
      },
      "text/plain": [
       "FloatProgress(value=0.0, bar_style='info', description='Progress:', layout=Layout(height='25px', width='50%'),…"
      ]
     },
     "metadata": {},
     "output_type": "display_data"
    },
    {
     "name": "stdout",
     "output_type": "stream",
     "text": [
      "SparkSession available as 'spark'.\n"
     ]
    },
    {
     "data": {
      "application/vnd.jupyter.widget-view+json": {
       "model_id": "",
       "version_major": 2,
       "version_minor": 0
      },
      "text/plain": [
       "FloatProgress(value=0.0, bar_style='info', description='Progress:', layout=Layout(height='25px', width='50%'),…"
      ]
     },
     "metadata": {},
     "output_type": "display_data"
    }
   ],
   "source": [
    "import sys\n",
    "sys.argv.append('--JOB_NAME')\n",
    "sys.argv.append('address-cleaning')\n",
    "\n",
    "sys.argv.append('--source_catalog_database')\n",
    "sys.argv.append('housing-repairs-raw-zone')\n",
    "\n",
    "sys.argv.append('--source_catalog_table')\n",
    "sys.argv.append('housing_repairs_electrical_supplies')\n",
    "\n",
    "sys.argv.append('--cleaned_repairs_s3_bucket_target')\n",
    "sys.argv.append('s3://dataplatform-stg-refined-zone/housing-repairs/repairs_electrical_mechanical_fire/electrical_supplies/cleaned')"
   ]
  },
  {
   "cell_type": "code",
   "execution_count": 2,
   "metadata": {},
   "outputs": [
    {
     "data": {
      "application/vnd.jupyter.widget-view+json": {
       "model_id": "",
       "version_major": 2,
       "version_minor": 0
      },
      "text/plain": [
       "FloatProgress(value=0.0, bar_style='info', description='Progress:', layout=Layout(height='25px', width='50%'),…"
      ]
     },
     "metadata": {},
     "output_type": "display_data"
    }
   ],
   "source": [
    "from awsglue.transforms import *\n",
    "from awsglue.utils import getResolvedOptions\n",
    "from pyspark.context import SparkContext\n",
    "from awsglue.context import GlueContext\n",
    "from awsglue.job import Job\n",
    "from pyspark.ml import Pipeline\n",
    "from pyspark.ml.feature import RegexTokenizer, NGram, HashingTF, MinHashLSH\n",
    "from pyspark.sql.window import Window\n",
    "from pyspark.sql.functions import rank, col, trim, when, max, trim\n",
    "import pyspark.sql.functions as F\n",
    "from pyspark.sql.types import StringType\n",
    "from awsglue.dynamicframe import DynamicFrame\n",
    "\n",
    "def get_glue_env_var(key, default=\"none\"):\n",
    "    if f'--{key}' in sys.argv:\n",
    "        return getResolvedOptions(sys.argv, [key])[key]\n",
    "    else:\n",
    "        return default\n",
    "\n",
    "def getLatestPartitions(dfa):\n",
    "   dfa = dfa.where(col('import_year') == dfa.select(max('import_year')).first()[0])\n",
    "   dfa = dfa.where(col('import_month') == dfa.select(max('import_month')).first()[0])\n",
    "   dfa = dfa.where(col('import_day') == dfa.select(max('import_day')).first()[0])\n",
    "   return dfa"
   ]
  },
  {
   "cell_type": "code",
   "execution_count": 3,
   "metadata": {},
   "outputs": [
    {
     "data": {
      "application/vnd.jupyter.widget-view+json": {
       "model_id": "",
       "version_major": 2,
       "version_minor": 0
      },
      "text/plain": [
       "FloatProgress(value=0.0, bar_style='info', description='Progress:', layout=Layout(height='25px', width='50%'),…"
      ]
     },
     "metadata": {},
     "output_type": "display_data"
    }
   ],
   "source": [
    "args = getResolvedOptions(sys.argv, ['JOB_NAME'])\n",
    "\n",
    "source_catalog_database = get_glue_env_var('source_catalog_database', '')\n",
    "source_catalog_table    = get_glue_env_var('source_catalog_table', '')\n",
    "cleaned_repairs_s3_bucket_target = get_glue_env_var('cleaned_repairs_s3_bucket_target', '')\n",
    "\n",
    "\n",
    "sc = SparkContext.getOrCreate()\n",
    "glueContext = GlueContext(sc)\n",
    "logger = glueContext.get_logger()\n",
    "job = Job(glueContext)\n",
    "job.init(args['JOB_NAME'], args)\n"
   ]
  },
  {
   "cell_type": "code",
   "execution_count": 4,
   "metadata": {},
   "outputs": [
    {
     "data": {
      "application/vnd.jupyter.widget-view+json": {
       "model_id": "",
       "version_major": 2,
       "version_minor": 0
      },
      "text/plain": [
       "FloatProgress(value=0.0, bar_style='info', description='Progress:', layout=Layout(height='25px', width='50%'),…"
      ]
     },
     "metadata": {},
     "output_type": "display_data"
    }
   ],
   "source": [
    "# logger.info('Fetch Source Data')\n",
    "source_data = glueContext.create_dynamic_frame.from_catalog(\n",
    "    name_space=source_catalog_database,\n",
    "    table_name=source_catalog_table,\n",
    ") \n",
    "\n",
    "df = source_data.toDF()\n",
    "df = getLatestPartitions(df)"
   ]
  },
  {
   "cell_type": "code",
   "execution_count": 5,
   "metadata": {},
   "outputs": [
    {
     "data": {
      "application/vnd.jupyter.widget-view+json": {
       "model_id": "",
       "version_major": 2,
       "version_minor": 0
      },
      "text/plain": [
       "FloatProgress(value=0.0, bar_style='info', description='Progress:', layout=Layout(height='25px', width='50%'),…"
      ]
     },
     "metadata": {},
     "output_type": "display_data"
    },
    {
     "name": "stdout",
     "output_type": "stream",
     "text": [
      "root\n",
      " |-- Address: string (nullable = true)\n",
      " |-- Description: string (nullable = true)\n",
      " |-- Date: string (nullable = true)\n",
      " |-- temp_order_number: string (nullable = true)\n",
      " |-- priority_code: string (nullable = true)\n",
      " |-- raised_value: string (nullable = true)\n",
      " |-- total_invoiced: string (nullable = true)\n",
      " |-- cost_code: string (nullable = true)\n",
      " |-- contractor's_own_ref._no: string (nullable = true)\n",
      " |-- new_uhw_number: string (nullable = true)\n",
      " |-- requested_by: string (nullable = true)\n",
      " |-- works_status/comments: string (nullable = true)\n",
      " |-- unnamed:_12: string (nullable = true)\n",
      " |-- unnamed:_13: string (nullable = true)\n",
      " |-- unnamed:_14: string (nullable = true)\n",
      " |-- unnamed:_15: string (nullable = true)\n",
      " |-- unnamed:_16: string (nullable = true)\n",
      " |-- unnamed:_17: string (nullable = true)\n",
      " |-- unnamed:_18: string (nullable = true)\n",
      " |-- unnamed:_19: string (nullable = true)\n",
      " |-- unnamed:_20: string (nullable = true)\n",
      " |-- unnamed:_21: string (nullable = true)\n",
      " |-- unnamed:_22: string (nullable = true)\n",
      " |-- unnamed:_23: string (nullable = true)\n",
      " |-- unnamed:_24: string (nullable = true)\n",
      " |-- unnamed:_25: string (nullable = true)\n",
      " |-- unnamed:_26: string (nullable = true)\n",
      " |-- unnamed:_27: string (nullable = true)\n",
      " |-- unnamed:_28: string (nullable = true)\n",
      " |-- unnamed:_29: string (nullable = true)\n",
      " |-- import_datetime: timestamp (nullable = true)\n",
      " |-- import_timestamp: string (nullable = true)\n",
      " |-- import_year: string (nullable = true)\n",
      " |-- import_month: string (nullable = true)\n",
      " |-- import_day: string (nullable = true)\n",
      " |-- import_date: string (nullable = true)"
     ]
    }
   ],
   "source": [
    "df.printSchema()"
   ]
  },
  {
   "cell_type": "code",
   "execution_count": 57,
   "metadata": {},
   "outputs": [
    {
     "data": {
      "application/vnd.jupyter.widget-view+json": {
       "model_id": "",
       "version_major": 2,
       "version_minor": 0
      },
      "text/plain": [
       "FloatProgress(value=0.0, bar_style='info', description='Progress:', layout=Layout(height='25px', width='50%'),…"
      ]
     },
     "metadata": {},
     "output_type": "display_data"
    },
    {
     "name": "stdout",
     "output_type": "stream",
     "text": [
      "root\n",
      " |-- address: string (nullable = true)\n",
      " |-- description: string (nullable = true)\n",
      " |-- date: string (nullable = true)\n",
      " |-- temp_order_number: string (nullable = true)\n",
      " |-- priority_code: string (nullable = true)\n",
      " |-- raised_value: string (nullable = true)\n",
      " |-- total_invoiced: string (nullable = true)\n",
      " |-- cost_code: string (nullable = true)\n",
      " |-- contractor_s_own_ref_no: string (nullable = true)\n",
      " |-- new_uhw_number: string (nullable = true)\n",
      " |-- requested_by: string (nullable = true)\n",
      " |-- works_status_comments: string (nullable = true)\n",
      " |-- import_datetime: timestamp (nullable = true)\n",
      " |-- import_timestamp: string (nullable = true)\n",
      " |-- import_year: string (nullable = true)\n",
      " |-- import_month: string (nullable = true)\n",
      " |-- import_day: string (nullable = true)\n",
      " |-- import_date: string (nullable = true)"
     ]
    }
   ],
   "source": [
    "import re\n",
    "# clean up column names\n",
    "logger.info('clean up column names')\n",
    "def clean_column_names(df):\n",
    "    # remove full stops from column names\n",
    "    df = df.select([F.col(\"`{0}`\".format(c)).alias(\n",
    "        c.replace('.', '')) for c in df.columns])\n",
    "    # remove trialing underscores\n",
    "    df = df.select([F.col(col).alias(re.sub(\"_$\", \"\", col))\n",
    "                   for col in df.columns])\n",
    "    # lowercase and remove double underscores\n",
    "    df2 = df.select([F.col(col).alias(\n",
    "        re.sub(\"[^0-9a-zA-Z$]+\", \"_\", col.lower())) for col in df.columns])\n",
    "    return df2\n",
    "\n",
    "df2 = clean_column_names(df)\n",
    "\n",
    "# drop unamed columns (empty columns)\n",
    "all_columns = df2.columns\n",
    "columns_to_drop = [i for i in all_columns if i.startswith('unnamed')]\n",
    "df2 = df2.drop(*columns_to_drop)\n",
    "df2.printSchema()"
   ]
  },
  {
   "cell_type": "code",
   "execution_count": 58,
   "metadata": {},
   "outputs": [
    {
     "data": {
      "application/vnd.jupyter.widget-view+json": {
       "model_id": "",
       "version_major": 2,
       "version_minor": 0
      },
      "text/plain": [
       "FloatProgress(value=0.0, bar_style='info', description='Progress:', layout=Layout(height='25px', width='50%'),…"
      ]
     },
     "metadata": {},
     "output_type": "display_data"
    }
   ],
   "source": [
    "logger.info('convert timestamp and date columns to datetime / date field types')\n",
    "df2 = df2.withColumn('date', F.to_date('date', \"dd/MM/yyyy\"))"
   ]
  },
  {
   "cell_type": "code",
   "execution_count": 59,
   "metadata": {},
   "outputs": [
    {
     "data": {
      "application/vnd.jupyter.widget-view+json": {
       "model_id": "",
       "version_major": 2,
       "version_minor": 0
      },
      "text/plain": [
       "FloatProgress(value=0.0, bar_style='info', description='Progress:', layout=Layout(height='25px', width='50%'),…"
      ]
     },
     "metadata": {},
     "output_type": "display_data"
    },
    {
     "name": "stdout",
     "output_type": "stream",
     "text": [
      "root\n",
      " |-- address: string (nullable = true)\n",
      " |-- description: string (nullable = true)\n",
      " |-- date: date (nullable = true)\n",
      " |-- temp_order_number: string (nullable = true)\n",
      " |-- priority_code: string (nullable = true)\n",
      " |-- raised_value: string (nullable = true)\n",
      " |-- total_invoiced: string (nullable = true)\n",
      " |-- cost_code: string (nullable = true)\n",
      " |-- contractor_s_own_ref_no: string (nullable = true)\n",
      " |-- new_uhw_number: string (nullable = true)\n",
      " |-- requested_by: string (nullable = true)\n",
      " |-- works_status_comments: string (nullable = true)\n",
      " |-- import_datetime: timestamp (nullable = true)\n",
      " |-- import_timestamp: string (nullable = true)\n",
      " |-- import_year: string (nullable = true)\n",
      " |-- import_month: string (nullable = true)\n",
      " |-- import_day: string (nullable = true)\n",
      " |-- import_date: string (nullable = true)"
     ]
    }
   ],
   "source": [
    "df2.printSchema()"
   ]
  },
  {
   "cell_type": "code",
   "execution_count": 60,
   "metadata": {},
   "outputs": [
    {
     "data": {
      "application/vnd.jupyter.widget-view+json": {
       "model_id": "",
       "version_major": 2,
       "version_minor": 0
      },
      "text/plain": [
       "FloatProgress(value=0.0, bar_style='info', description='Progress:', layout=Layout(height='25px', width='50%'),…"
      ]
     },
     "metadata": {},
     "output_type": "display_data"
    },
    {
     "name": "stdout",
     "output_type": "stream",
     "text": [
      "root\n",
      " |-- property_address: string (nullable = true)\n",
      " |-- description_of_work: string (nullable = true)\n",
      " |-- datetime_raised: date (nullable = true)\n",
      " |-- temp_order_number_full: string (nullable = true)\n",
      " |-- work_priority_description: string (nullable = true)\n",
      " |-- raised_value: string (nullable = true)\n",
      " |-- order_value: string (nullable = true)\n",
      " |-- budget_code: string (nullable = true)\n",
      " |-- contractor_ref: string (nullable = true)\n",
      " |-- new_uhw_number: string (nullable = true)\n",
      " |-- operative: string (nullable = true)\n",
      " |-- order_status: string (nullable = true)\n",
      " |-- import_datetime: timestamp (nullable = true)\n",
      " |-- import_timestamp: string (nullable = true)\n",
      " |-- import_year: string (nullable = true)\n",
      " |-- import_month: string (nullable = true)\n",
      " |-- import_day: string (nullable = true)\n",
      " |-- import_date: string (nullable = true)\n",
      " |-- data_source: string (nullable = false)"
     ]
    }
   ],
   "source": [
    "# add new data source column to specify which repairs sheet the repair came from\n",
    "df2 = df2.withColumn('data_source', F.lit('ElecMechFire - Electrical Supplies'))\n",
    "\n",
    "# # rename column names\n",
    "df2 = df2.withColumnRenamed('date', 'datetime_raised') \\\n",
    "    .withColumnRenamed('requested_by', 'operative') \\\n",
    "    .withColumnRenamed('address', 'property_address') \\\n",
    "    .withColumnRenamed('description', 'description_of_work') \\\n",
    "    .withColumnRenamed('priority_code', 'work_priority_description') \\\n",
    "    .withColumnRenamed('temp_order_number', 'temp_order_number_full') \\\n",
    "    .withColumnRenamed('cost_code', 'budget_code')\\\n",
    "    .withColumnRenamed('total_invoiced', 'order_value')\\\n",
    "    .withColumnRenamed('works_status_comments', 'order_status')\\\n",
    "    .withColumnRenamed('contractor_s_own_ref_no', 'contractor_ref')\\\n",
    "\n",
    "df2.printSchema()"
   ]
  },
  {
   "cell_type": "code",
   "execution_count": 82,
   "metadata": {},
   "outputs": [
    {
     "data": {
      "application/vnd.jupyter.widget-view+json": {
       "model_id": "",
       "version_major": 2,
       "version_minor": 0
      },
      "text/plain": [
       "FloatProgress(value=0.0, bar_style='info', description='Progress:', layout=Layout(height='25px', width='50%'),…"
      ]
     },
     "metadata": {},
     "output_type": "display_data"
    }
   ],
   "source": [
    "def map_repair_priority(code):\n",
    "    if code == 'Immediate':\n",
    "        return 1\n",
    "    elif code == 'Emergency':\n",
    "        return 2\n",
    "    elif code == 'Urgent':\n",
    "        return 3\n",
    "    elif code == 'Normal':\n",
    "        return 4\n",
    "    else:\n",
    "        return None\n",
    "    \n",
    "\n",
    "# # convert to a UDF Function by passing in the function and the return type of function (string in this case)\n",
    "udf_map_repair_priority = F.udf(map_repair_priority, StringType())\n",
    "# apply function\n",
    "df2 = df2.withColumn('work_priority_priority_code', udf_map_repair_priority('work_priority_description'))"
   ]
  },
  {
   "cell_type": "code",
   "execution_count": 83,
   "metadata": {},
   "outputs": [
    {
     "data": {
      "application/vnd.jupyter.widget-view+json": {
       "model_id": "",
       "version_major": 2,
       "version_minor": 0
      },
      "text/plain": [
       "FloatProgress(value=0.0, bar_style='info', description='Progress:', layout=Layout(height='25px', width='50%'),…"
      ]
     },
     "metadata": {},
     "output_type": "display_data"
    },
    {
     "name": "stdout",
     "output_type": "stream",
     "text": [
      "-RECORD 0-------------------------------------------\n",
      " property_address            | Langton Lodge        \n",
      " description_of_work         | Phase 3 - Visual ... \n",
      " datetime_raised             | null                 \n",
      " temp_order_number_full      | RM/210121/253        \n",
      " work_priority_description   | Planned              \n",
      " raised_value                | 32.9                 \n",
      " order_value                 | 32.9                 \n",
      " budget_code                 | X7054                \n",
      " contractor_ref              | nan                  \n",
      " new_uhw_number              | Pending              \n",
      " operative                   | R McKenna            \n",
      " order_status                | Works complete       \n",
      " import_datetime             | 2021-07-13 09:33:... \n",
      " import_timestamp            | 1626168781.503371    \n",
      " import_year                 | 2021                 \n",
      " import_month                | 07                   \n",
      " import_day                  | 13                   \n",
      " import_date                 | 20210713             \n",
      " data_source                 | ElecMechFire - El... \n",
      " work_priority_priority_code | null                 \n",
      "-RECORD 1-------------------------------------------\n",
      " property_address            | Hows Street          \n",
      " description_of_work         | Phase 3 - Visual ... \n",
      " datetime_raised             | null                 \n",
      " temp_order_number_full      | RM/210121/420        \n",
      " work_priority_description   | Planned              \n",
      " raised_value                | 32.9                 \n",
      " order_value                 | 32.9                 \n",
      " budget_code                 | X7054                \n",
      " contractor_ref              | nan                  \n",
      " new_uhw_number              | Pending              \n",
      " operative                   | R McKenna            \n",
      " order_status                | Works complete       \n",
      " import_datetime             | 2021-07-13 10:02:... \n",
      " import_timestamp            | 1626170521.906867    \n",
      " import_year                 | 2021                 \n",
      " import_month                | 07                   \n",
      " import_day                  | 13                   \n",
      " import_date                 | 20210713             \n",
      " data_source                 | ElecMechFire - El... \n",
      " work_priority_priority_code | null                 \n",
      "-RECORD 2-------------------------------------------\n",
      " property_address            | Lea View House       \n",
      " description_of_work         | Phase 3 - Visual ... \n",
      " datetime_raised             | null                 \n",
      " temp_order_number_full      | RM/210121/266        \n",
      " work_priority_description   | Planned              \n",
      " raised_value                | 32.9                 \n",
      " order_value                 | 131.6                \n",
      " budget_code                 | X7054                \n",
      " contractor_ref              | nan                  \n",
      " new_uhw_number              | Pending              \n",
      " operative                   | R McKenna            \n",
      " order_status                | Works complete       \n",
      " import_datetime             | 2021-07-13 09:33:... \n",
      " import_timestamp            | 1626168781.503371    \n",
      " import_year                 | 2021                 \n",
      " import_month                | 07                   \n",
      " import_day                  | 13                   \n",
      " import_date                 | 20210713             \n",
      " data_source                 | ElecMechFire - El... \n",
      " work_priority_priority_code | null                 \n",
      "-RECORD 3-------------------------------------------\n",
      " property_address            | Kingsgate Estate     \n",
      " description_of_work         | Phase 3 - Visual ... \n",
      " datetime_raised             | null                 \n",
      " temp_order_number_full      | RM/210121/235        \n",
      " work_priority_description   | Planned              \n",
      " raised_value                | 32.9                 \n",
      " order_value                 | 98.7                 \n",
      " budget_code                 | X7054                \n",
      " contractor_ref              | nan                  \n",
      " new_uhw_number              | Pending              \n",
      " operative                   | R McKenna            \n",
      " order_status                | Works complete       \n",
      " import_datetime             | 2021-07-13 09:33:... \n",
      " import_timestamp            | 1626168781.503371    \n",
      " import_year                 | 2021                 \n",
      " import_month                | 07                   \n",
      " import_day                  | 13                   \n",
      " import_date                 | 20210713             \n",
      " data_source                 | ElecMechFire - El... \n",
      " work_priority_priority_code | null                 \n",
      "-RECORD 4-------------------------------------------\n",
      " property_address            | Marshall House       \n",
      " description_of_work         | Phase 3 - Visual ... \n",
      " datetime_raised             | null                 \n",
      " temp_order_number_full      | RM/210121/119        \n",
      " work_priority_description   | Planned              \n",
      " raised_value                | 32.9                 \n",
      " order_value                 | 32.9                 \n",
      " budget_code                 | X7054                \n",
      " contractor_ref              | nan                  \n",
      " new_uhw_number              | Pending              \n",
      " operative                   | R McKenna            \n",
      " order_status                | Works complete       \n",
      " import_datetime             | 2021-07-13 10:02:... \n",
      " import_timestamp            | 1626170521.906867    \n",
      " import_year                 | 2021                 \n",
      " import_month                | 07                   \n",
      " import_day                  | 13                   \n",
      " import_date                 | 20210713             \n",
      " data_source                 | ElecMechFire - El... \n",
      " work_priority_priority_code | null                 \n",
      "-RECORD 5-------------------------------------------\n",
      " property_address            | nan                  \n",
      " description_of_work         | nan                  \n",
      " datetime_raised             | null                 \n",
      " temp_order_number_full      | nan                  \n",
      " work_priority_description   | nan                  \n",
      " raised_value                | nan                  \n",
      " order_value                 | nan                  \n",
      " budget_code                 | nan                  \n",
      " contractor_ref              | nan                  \n",
      " new_uhw_number              | nan                  \n",
      " operative                   | nan                  \n",
      " order_status                | nan                  \n",
      " import_datetime             | 2021-07-13 10:02:... \n",
      " import_timestamp            | 1626170521.906867    \n",
      " import_year                 | 2021                 \n",
      " import_month                | 07                   \n",
      " import_day                  | 13                   \n",
      " import_date                 | 20210713             \n",
      " data_source                 | ElecMechFire - El... \n",
      " work_priority_priority_code | null                 \n",
      "-RECORD 6-------------------------------------------\n",
      " property_address            | nan                  \n",
      " description_of_work         | nan                  \n",
      " datetime_raised             | null                 \n",
      " temp_order_number_full      | nan                  \n",
      " work_priority_description   | nan                  \n",
      " raised_value                | nan                  \n",
      " order_value                 | nan                  \n",
      " budget_code                 | nan                  \n",
      " contractor_ref              | nan                  \n",
      " new_uhw_number              | nan                  \n",
      " operative                   | nan                  \n",
      " order_status                | nan                  \n",
      " import_datetime             | 2021-07-13 10:02:... \n",
      " import_timestamp            | 1626170521.906867    \n",
      " import_year                 | 2021                 \n",
      " import_month                | 07                   \n",
      " import_day                  | 13                   \n",
      " import_date                 | 20210713             \n",
      " data_source                 | ElecMechFire - El... \n",
      " work_priority_priority_code | null                 \n",
      "-RECORD 7-------------------------------------------\n",
      " property_address            | nan                  \n",
      " description_of_work         | nan                  \n",
      " datetime_raised             | null                 \n",
      " temp_order_number_full      | nan                  \n",
      " work_priority_description   | nan                  \n",
      " raised_value                | nan                  \n",
      " order_value                 | nan                  \n",
      " budget_code                 | nan                  \n",
      " contractor_ref              | nan                  \n",
      " new_uhw_number              | nan                  \n",
      " operative                   | nan                  \n",
      " order_status                | nan                  \n",
      " import_datetime             | 2021-07-13 10:02:... \n",
      " import_timestamp            | 1626170521.906867    \n",
      " import_year                 | 2021                 \n",
      " import_month                | 07                   \n",
      " import_day                  | 13                   \n",
      " import_date                 | 20210713             \n",
      " data_source                 | ElecMechFire - El... \n",
      " work_priority_priority_code | null                 \n",
      "-RECORD 8-------------------------------------------\n",
      " property_address            | nan                  \n",
      " description_of_work         | nan                  \n",
      " datetime_raised             | null                 \n",
      " temp_order_number_full      | nan                  \n",
      " work_priority_description   | nan                  \n",
      " raised_value                | nan                  \n",
      " order_value                 | nan                  \n",
      " budget_code                 | nan                  \n",
      " contractor_ref              | nan                  \n",
      " new_uhw_number              | nan                  \n",
      " operative                   | nan                  \n",
      " order_status                | nan                  \n",
      " import_datetime             | 2021-07-13 10:02:... \n",
      " import_timestamp            | 1626170521.906867    \n",
      " import_year                 | 2021                 \n",
      " import_month                | 07                   \n",
      " import_day                  | 13                   \n",
      " import_date                 | 20210713             \n",
      " data_source                 | ElecMechFire - El... \n",
      " work_priority_priority_code | null                 \n",
      "-RECORD 9-------------------------------------------\n",
      " property_address            | nan                  \n",
      " description_of_work         | nan                  \n",
      " datetime_raised             | null                 \n",
      " temp_order_number_full      | nan                  \n",
      " work_priority_description   | nan                  \n",
      " raised_value                | nan                  \n",
      " order_value                 | nan                  \n",
      " budget_code                 | nan                  \n",
      " contractor_ref              | nan                  \n",
      " new_uhw_number              | nan                  \n",
      " operative                   | nan                  \n",
      " order_status                | nan                  \n",
      " import_datetime             | 2021-07-13 10:02:... \n",
      " import_timestamp            | 1626170521.906867    \n",
      " import_year                 | 2021                 \n",
      " import_month                | 07                   \n",
      " import_day                  | 13                   \n",
      " import_date                 | 20210713             \n",
      " data_source                 | ElecMechFire - El... \n",
      " work_priority_priority_code | null                 \n",
      "-RECORD 10------------------------------------------\n",
      " property_address            | nan                  \n",
      " description_of_work         | nan                  \n",
      " datetime_raised             | null                 \n",
      " temp_order_number_full      | nan                  \n",
      " work_priority_description   | nan                  \n",
      " raised_value                | nan                  \n",
      " order_value                 | nan                  \n",
      " budget_code                 | nan                  \n",
      " contractor_ref              | nan                  \n",
      " new_uhw_number              | nan                  \n",
      " operative                   | nan                  \n",
      " order_status                | nan                  \n",
      " import_datetime             | 2021-07-13 10:02:... \n",
      " import_timestamp            | 1626170521.906867    \n",
      " import_year                 | 2021                 \n",
      " import_month                | 07                   \n",
      " import_day                  | 13                   \n",
      " import_date                 | 20210713             \n",
      " data_source                 | ElecMechFire - El... \n",
      " work_priority_priority_code | null                 \n",
      "-RECORD 11------------------------------------------\n",
      " property_address            | nan                  \n",
      " description_of_work         | nan                  \n",
      " datetime_raised             | null                 \n",
      " temp_order_number_full      | nan                  \n",
      " work_priority_description   | nan                  \n",
      " raised_value                | nan                  \n",
      " order_value                 | nan                  \n",
      " budget_code                 | nan                  \n",
      " contractor_ref              | nan                  \n",
      " new_uhw_number              | nan                  \n",
      " operative                   | nan                  \n",
      " order_status                | nan                  \n",
      " import_datetime             | 2021-07-13 10:02:... \n",
      " import_timestamp            | 1626170521.906867    \n",
      " import_year                 | 2021                 \n",
      " import_month                | 07                   \n",
      " import_day                  | 13                   \n",
      " import_date                 | 20210713             \n",
      " data_source                 | ElecMechFire - El... \n",
      " work_priority_priority_code | null                 \n",
      "-RECORD 12------------------------------------------\n",
      " property_address            | nan                  \n",
      " description_of_work         | nan                  \n",
      " datetime_raised             | null                 \n",
      " temp_order_number_full      | nan                  \n",
      " work_priority_description   | nan                  \n",
      " raised_value                | nan                  \n",
      " order_value                 | nan                  \n",
      " budget_code                 | nan                  \n",
      " contractor_ref              | nan                  \n",
      " new_uhw_number              | nan                  \n",
      " operative                   | nan                  \n",
      " order_status                | nan                  \n",
      " import_datetime             | 2021-07-13 10:02:... \n",
      " import_timestamp            | 1626170521.906867    \n",
      " import_year                 | 2021                 \n",
      " import_month                | 07                   \n",
      " import_day                  | 13                   \n",
      " import_date                 | 20210713             \n",
      " data_source                 | ElecMechFire - El... \n",
      " work_priority_priority_code | null                 \n",
      "-RECORD 13------------------------------------------\n",
      " property_address            | nan                  \n",
      " description_of_work         | nan                  \n",
      " datetime_raised             | null                 \n",
      " temp_order_number_full      | nan                  \n",
      " work_priority_description   | nan                  \n",
      " raised_value                | nan                  \n",
      " order_value                 | nan                  \n",
      " budget_code                 | nan                  \n",
      " contractor_ref              | nan                  \n",
      " new_uhw_number              | nan                  \n",
      " operative                   | nan                  \n",
      " order_status                | nan                  \n",
      " import_datetime             | 2021-07-13 10:02:... \n",
      " import_timestamp            | 1626170521.906867    \n",
      " import_year                 | 2021                 \n",
      " import_month                | 07                   \n",
      " import_day                  | 13                   \n",
      " import_date                 | 20210713             \n",
      " data_source                 | ElecMechFire - El... \n",
      " work_priority_priority_code | null                 \n",
      "-RECORD 14------------------------------------------\n",
      " property_address            | nan                  \n",
      " description_of_work         | nan                  \n",
      " datetime_raised             | null                 \n",
      " temp_order_number_full      | nan                  \n",
      " work_priority_description   | nan                  \n",
      " raised_value                | nan                  \n",
      " order_value                 | nan                  \n",
      " budget_code                 | nan                  \n",
      " contractor_ref              | nan                  \n",
      " new_uhw_number              | nan                  \n",
      " operative                   | nan                  \n",
      " order_status                | nan                  \n",
      " import_datetime             | 2021-07-13 10:02:... \n",
      " import_timestamp            | 1626170521.906867    \n",
      " import_year                 | 2021                 \n",
      " import_month                | 07                   \n",
      " import_day                  | 13                   \n",
      " import_date                 | 20210713             \n",
      " data_source                 | ElecMechFire - El... \n",
      " work_priority_priority_code | null                 \n",
      "-RECORD 15------------------------------------------\n",
      " property_address            | nan                  \n",
      " description_of_work         | nan                  \n",
      " datetime_raised             | null                 \n",
      " temp_order_number_full      | nan                  \n",
      " work_priority_description   | nan                  \n",
      " raised_value                | nan                  \n",
      " order_value                 | nan                  \n",
      " budget_code                 | nan                  \n",
      " contractor_ref              | nan                  \n",
      " new_uhw_number              | nan                  \n",
      " operative                   | nan                  \n",
      " order_status                | nan                  \n",
      " import_datetime             | 2021-07-13 10:02:... \n",
      " import_timestamp            | 1626170521.906867    \n",
      " import_year                 | 2021                 \n",
      " import_month                | 07                   \n",
      " import_day                  | 13                   \n",
      " import_date                 | 20210713             \n",
      " data_source                 | ElecMechFire - El... \n",
      " work_priority_priority_code | null                 \n",
      "-RECORD 16------------------------------------------\n",
      " property_address            | nan                  \n",
      " description_of_work         | nan                  \n",
      " datetime_raised             | null                 \n",
      " temp_order_number_full      | nan                  \n",
      " work_priority_description   | nan                  \n",
      " raised_value                | nan                  \n",
      " order_value                 | nan                  \n",
      " budget_code                 | nan                  \n",
      " contractor_ref              | nan                  \n",
      " new_uhw_number              | nan                  \n",
      " operative                   | nan                  \n",
      " order_status                | nan                  \n",
      " import_datetime             | 2021-07-13 10:02:... \n",
      " import_timestamp            | 1626170521.906867    \n",
      " import_year                 | 2021                 \n",
      " import_month                | 07                   \n",
      " import_day                  | 13                   \n",
      " import_date                 | 20210713             \n",
      " data_source                 | ElecMechFire - El... \n",
      " work_priority_priority_code | null                 \n",
      "-RECORD 17------------------------------------------\n",
      " property_address            | nan                  \n",
      " description_of_work         | nan                  \n",
      " datetime_raised             | null                 \n",
      " temp_order_number_full      | nan                  \n",
      " work_priority_description   | nan                  \n",
      " raised_value                | nan                  \n",
      " order_value                 | nan                  \n",
      " budget_code                 | nan                  \n",
      " contractor_ref              | nan                  \n",
      " new_uhw_number              | nan                  \n",
      " operative                   | nan                  \n",
      " order_status                | nan                  \n",
      " import_datetime             | 2021-07-13 10:02:... \n",
      " import_timestamp            | 1626170521.906867    \n",
      " import_year                 | 2021                 \n",
      " import_month                | 07                   \n",
      " import_day                  | 13                   \n",
      " import_date                 | 20210713             \n",
      " data_source                 | ElecMechFire - El... \n",
      " work_priority_priority_code | null                 \n",
      "-RECORD 18------------------------------------------\n",
      " property_address            | nan                  \n",
      " description_of_work         | nan                  \n",
      " datetime_raised             | null                 \n",
      " temp_order_number_full      | nan                  \n",
      " work_priority_description   | nan                  \n",
      " raised_value                | nan                  \n",
      " order_value                 | nan                  \n",
      " budget_code                 | nan                  \n",
      " contractor_ref              | nan                  \n",
      " new_uhw_number              | nan                  \n",
      " operative                   | nan                  \n",
      " order_status                | nan                  \n",
      " import_datetime             | 2021-07-13 10:02:... \n",
      " import_timestamp            | 1626170521.906867    \n",
      " import_year                 | 2021                 \n",
      " import_month                | 07                   \n",
      " import_day                  | 13                   \n",
      " import_date                 | 20210713             \n",
      " data_source                 | ElecMechFire - El... \n",
      " work_priority_priority_code | null                 \n",
      "-RECORD 19------------------------------------------\n",
      " property_address            | nan                  \n",
      " description_of_work         | nan                  \n",
      " datetime_raised             | null                 \n",
      " temp_order_number_full      | nan                  \n",
      " work_priority_description   | nan                  \n",
      " raised_value                | nan                  \n",
      " order_value                 | nan                  \n",
      " budget_code                 | nan                  \n",
      " contractor_ref              | nan                  \n",
      " new_uhw_number              | nan                  \n",
      " operative                   | nan                  \n",
      " order_status                | nan                  \n",
      " import_datetime             | 2021-07-13 10:02:... \n",
      " import_timestamp            | 1626170521.906867    \n",
      " import_year                 | 2021                 \n",
      " import_month                | 07                   \n",
      " import_day                  | 13                   \n",
      " import_date                 | 20210713             \n",
      " data_source                 | ElecMechFire - El... \n",
      " work_priority_priority_code | null                 \n",
      "only showing top 20 rows"
     ]
    }
   ],
   "source": [
    "df2.show(vertical=True)"
   ]
  },
  {
   "cell_type": "code",
   "execution_count": 84,
   "metadata": {},
   "outputs": [
    {
     "data": {
      "application/vnd.jupyter.widget-view+json": {
       "model_id": "",
       "version_major": 2,
       "version_minor": 0
      },
      "text/plain": [
       "FloatProgress(value=0.0, bar_style='info', description='Progress:', layout=Layout(height='25px', width='50%'),…"
      ]
     },
     "metadata": {},
     "output_type": "display_data"
    }
   ],
   "source": [
    "cleanedDataframe = DynamicFrame.fromDF(df2, glueContext, \"cleanedDataframe\")\n",
    "parquetData = glueContext.write_dynamic_frame.from_options(\n",
    "    frame=cleanedDataframe,\n",
    "    connection_type=\"s3\",\n",
    "    format=\"parquet\",\n",
    "    connection_options={\"path\": cleaned_repairs_s3_bucket_target,\"partitionKeys\": [\"import_year\", \"import_month\", \"import_day\", \"import_date\"]},\n",
    "    transformation_ctx=\"parquetData\")\n",
    "job.commit()"
   ]
  },
  {
   "cell_type": "code",
   "execution_count": null,
   "metadata": {},
   "outputs": [],
   "source": []
  }
 ],
 "metadata": {
  "kernelspec": {
   "display_name": "PySpark",
   "language": "",
   "name": "pysparkkernel"
  },
  "language_info": {
   "codemirror_mode": {
    "name": "python",
    "version": 3
   },
   "mimetype": "text/x-python",
   "name": "pyspark",
   "pygments_lexer": "python3"
  }
 },
 "nbformat": 4,
 "nbformat_minor": 4
}
