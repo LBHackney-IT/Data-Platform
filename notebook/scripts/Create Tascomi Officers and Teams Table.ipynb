{
 "cells": [
  {
   "cell_type": "code",
   "execution_count": 1,
   "metadata": {},
   "outputs": [
    {
     "name": "stdout",
     "output_type": "stream",
     "text": [
      "Starting Spark application\n"
     ]
    },
    {
     "data": {
      "text/html": [
       "<table>\n",
       "<tr><th>ID</th><th>YARN Application ID</th><th>Kind</th><th>State</th><th>Spark UI</th><th>Driver log</th><th>Current session?</th></tr><tr><td>0</td><td>None</td><td>pyspark</td><td>idle</td><td></td><td></td><td>✔</td></tr></table>"
      ],
      "text/plain": [
       "<IPython.core.display.HTML object>"
      ]
     },
     "metadata": {},
     "output_type": "display_data"
    },
    {
     "data": {
      "application/vnd.jupyter.widget-view+json": {
       "model_id": "",
       "version_major": 2,
       "version_minor": 0
      },
      "text/plain": [
       "FloatProgress(value=0.0, bar_style='info', description='Progress:', layout=Layout(height='25px', width='50%'),…"
      ]
     },
     "metadata": {},
     "output_type": "display_data"
    },
    {
     "name": "stdout",
     "output_type": "stream",
     "text": [
      "SparkSession available as 'spark'.\n"
     ]
    },
    {
     "data": {
      "application/vnd.jupyter.widget-view+json": {
       "model_id": "",
       "version_major": 2,
       "version_minor": 0
      },
      "text/plain": [
       "FloatProgress(value=0.0, bar_style='info', description='Progress:', layout=Layout(height='25px', width='50%'),…"
      ]
     },
     "metadata": {},
     "output_type": "display_data"
    }
   ],
   "source": [
    "# This Notebook Enriches the Joins the Officers and Teams tablue using the user teams mapping"
   ]
  },
  {
   "cell_type": "code",
   "execution_count": 2,
   "metadata": {},
   "outputs": [
    {
     "data": {
      "application/vnd.jupyter.widget-view+json": {
       "model_id": "",
       "version_major": 2,
       "version_minor": 0
      },
      "text/plain": [
       "FloatProgress(value=0.0, bar_style='info', description='Progress:', layout=Layout(height='25px', width='50%'),…"
      ]
     },
     "metadata": {},
     "output_type": "display_data"
    }
   ],
   "source": [
    "import sys\n",
    "sys.argv.append('--source_catalog_table')\n",
    "# TODO: set name of the source table name in the glue catalog \n",
    "sys.argv.append('users')\n",
    "# changed to full file\n",
    "\n",
    "sys.argv.append('--source_catalog_table2')\n",
    "# TODO: set name of the source table name in the glue catalog \n",
    "sys.argv.append('user_team_map')\n",
    "# Changed to full file\n",
    "\n",
    "\n",
    "sys.argv.append('--source_catalog_table3')\n",
    "# TODO: set name of the source table name in the glue catalog \n",
    "sys.argv.append('user_teams')\n",
    "# changed to full file\n",
    "\n",
    "\n",
    "sys.argv.append('--source_catalog_database')\n",
    "# TODO: set name of the source database name in the glue catalog \n",
    "sys.argv.append('dataplatform-stg-tascomi-refined-zone')\n",
    "\n",
    "sys.argv.append('--s3_bucket_target')\n",
    "# TODO: set S3 location where the transformed data will be saved\n",
    "sys.argv.append('s3://dataplatform-stg-trusted-zone/tascomi/tables')\n"
   ]
  },
  {
   "cell_type": "code",
   "execution_count": 3,
   "metadata": {},
   "outputs": [
    {
     "data": {
      "application/vnd.jupyter.widget-view+json": {
       "model_id": "",
       "version_major": 2,
       "version_minor": 0
      },
      "text/plain": [
       "FloatProgress(value=0.0, bar_style='info', description='Progress:', layout=Layout(height='25px', width='50%'),…"
      ]
     },
     "metadata": {},
     "output_type": "display_data"
    }
   ],
   "source": [
    "import sys\n",
    "from awsglue.transforms import *\n",
    "from pyspark.context import SparkContext\n",
    "from awsglue.context import GlueContext\n",
    "from awsglue.dynamicframe import DynamicFrame\n",
    "from awsglue.job import Job\n",
    "from awsglue.utils import getResolvedOptions\n",
    "from pyspark.sql.functions import *\n",
    "import pyspark.sql.functions as F\n",
    "\n",
    "# from helper.helpers import get_glue_env_var,\n",
    "\n",
    "def get_glue_env_var(key, default=\"none\"):\n",
    "    if f'--{key}' in sys.argv:\n",
    "        return getResolvedOptions(sys.argv, [key])[key]\n",
    "    else:\n",
    "        return default\n",
    "\n",
    "glueContext = GlueContext(SparkContext.getOrCreate())\n",
    "job = Job(glueContext)\n",
    "\n",
    "\n",
    "# Define Source Data\n",
    "source_catalog_table = get_glue_env_var('source_catalog_table', '')\n",
    "source_catalog_table2 = get_glue_env_var('source_catalog_table2', '')\n",
    "source_catalog_table3 = get_glue_env_var('source_catalog_table3', '')\n",
    "\n",
    "source_catalog_database = get_glue_env_var('source_catalog_database', '')\n",
    "target_bucket = get_glue_env_var('s3_bucket_target', '')"
   ]
  },
  {
   "cell_type": "code",
   "execution_count": 4,
   "metadata": {},
   "outputs": [
    {
     "data": {
      "application/vnd.jupyter.widget-view+json": {
       "model_id": "",
       "version_major": 2,
       "version_minor": 0
      },
      "text/plain": [
       "FloatProgress(value=0.0, bar_style='info', description='Progress:', layout=Layout(height='25px', width='50%'),…"
      ]
     },
     "metadata": {},
     "output_type": "display_data"
    }
   ],
   "source": [
    "def drop_null_columns(df):\n",
    "  \n",
    "    _df_length = df.count()\n",
    "    null_counts = df.select([F.count(F.when(F.col(c).isNull(), c)).alias(c) for c in df.columns]).collect()[0].asDict()\n",
    "    to_drop = [k for k, v in null_counts.items() if v >= _df_length]\n",
    "    df = df.drop(*to_drop)\n",
    "    \n",
    "    return df"
   ]
  },
  {
   "cell_type": "code",
   "execution_count": 5,
   "metadata": {},
   "outputs": [
    {
     "data": {
      "application/vnd.jupyter.widget-view+json": {
       "model_id": "",
       "version_major": 2,
       "version_minor": 0
      },
      "text/plain": [
       "FloatProgress(value=0.0, bar_style='info', description='Progress:', layout=Layout(height='25px', width='50%'),…"
      ]
     },
     "metadata": {},
     "output_type": "display_data"
    }
   ],
   "source": [
    "def get_latest_snapshot(df):\n",
    "    \n",
    "   df = df.where(col('snapshot_date') == df.select(max('snapshot_date')).first()[0])\n",
    "   return df"
   ]
  },
  {
   "cell_type": "code",
   "execution_count": 6,
   "metadata": {},
   "outputs": [
    {
     "data": {
      "application/vnd.jupyter.widget-view+json": {
       "model_id": "",
       "version_major": 2,
       "version_minor": 0
      },
      "text/plain": [
       "FloatProgress(value=0.0, bar_style='info', description='Progress:', layout=Layout(height='25px', width='50%'),…"
      ]
     },
     "metadata": {},
     "output_type": "display_data"
    },
    {
     "name": "stdout",
     "output_type": "stream",
     "text": [
      "+--------------------+\n",
      "|        officer_name|\n",
      "+--------------------+\n",
      "|       Sandy Ampomah|\n",
      "|        Farhan Aleem|\n",
      "|    Kehinde Ayorinde|\n",
      "|    Mobolaji Sijuade|\n",
      "| Jonathan Bainbridge|\n",
      "|     Hesam Dorudvash|\n",
      "|     Laurence Hughes|\n",
      "|  Monika Vistartaite|\n",
      "|           Mark Daly|\n",
      "|Patrick O&#39;Connor|\n",
      "|      Timothy Walder|\n",
      "|      Peter Rathmell|\n",
      "|     Benjamin Coffie|\n",
      "|       Daryell Scott|\n",
      "|   Marcin Manikowski|\n",
      "|       Stuart Dunlop|\n",
      "|    Tura Ajani-Salau|\n",
      "|   Caroline Otubambo|\n",
      "|   Rugiatu Parkinson|\n",
      "|        Adele Castle|\n",
      "+--------------------+\n",
      "only showing top 20 rows"
     ]
    }
   ],
   "source": [
    "# Load Officers Table\n",
    "data_source = glueContext.create_dynamic_frame.from_catalog(\n",
    "    name_space=source_catalog_database,\n",
    "    table_name=source_catalog_table\n",
    " )\n",
    "\n",
    "# convert to a data frame\n",
    "df = data_source.toDF()\n",
    "\n",
    "\n",
    "# Rename columns\n",
    "df = df.withColumnRenamed(\"id\",\"officer_id\") \\\n",
    "       .withColumnRenamed(\"forename\",\"officer_forename\") \\\n",
    "       .withColumnRenamed(\"surname\",\"officer_surname\") \n",
    "\n",
    "\n",
    "# Specify Columns to Keep\n",
    "\n",
    "df = df.select('officer_id',\n",
    "               \"officer_forename\",\n",
    "               \"officer_surname\",\n",
    "               'username',\n",
    "               'email',\n",
    "               'mobile',\n",
    "               'phone',\n",
    "               'job_title',\n",
    "               'import_date',\n",
    "               'import_day',\n",
    "               'import_month',\n",
    "               'import_year',\n",
    "               'snapshot_date')\n",
    "              \n",
    "\n",
    "# drop old snapshots\n",
    "\n",
    "df = get_latest_snapshot(df)\n",
    "\n",
    "# Drop Columns containing Only Nulls \n",
    "# df = drop_null_columns(df)\n",
    "\n",
    "# Create Calculated Fields for Reporting\n",
    "\n",
    "df = df.withColumn('counter_officer', lit(1))\n",
    "df = df.withColumn('officer_name',concat(trim(col('officer_forename')),lit(\" \"),trim(col('officer_surname'))))\n",
    "\n",
    "df.select('officer_name').show()\n",
    "\n"
   ]
  },
  {
   "cell_type": "code",
   "execution_count": 7,
   "metadata": {},
   "outputs": [
    {
     "data": {
      "application/vnd.jupyter.widget-view+json": {
       "model_id": "",
       "version_major": 2,
       "version_minor": 0
      },
      "text/plain": [
       "FloatProgress(value=0.0, bar_style='info', description='Progress:', layout=Layout(height='25px', width='50%'),…"
      ]
     },
     "metadata": {},
     "output_type": "display_data"
    }
   ],
   "source": [
    "# Load User Teams Mapping Table\n",
    "data_source = glueContext.create_dynamic_frame.from_catalog(\n",
    "    name_space=source_catalog_database,\n",
    "    table_name=source_catalog_table2\n",
    ")\n",
    "\n",
    "# convert to a data frame\n",
    "df2 = data_source.toDF()\n",
    "\n",
    "# drop old snapshots\n",
    "\n",
    "df2 = get_latest_snapshot(df2)\n",
    "\n",
    "# Rename Relevant Columns\n",
    "# df2 = df2.withColumnRenamed(\"user_id\",\"officer_id\") \n",
    "\n",
    "# Keep Only Relevant Columns\n",
    "df2 = df2.select(\"user_id\",\n",
    "                 \"user_team_id\")\n",
    "\n",
    "\n",
    "# Check Result\n",
    "# df2.printSchema()"
   ]
  },
  {
   "cell_type": "code",
   "execution_count": 8,
   "metadata": {},
   "outputs": [
    {
     "data": {
      "application/vnd.jupyter.widget-view+json": {
       "model_id": "",
       "version_major": 2,
       "version_minor": 0
      },
      "text/plain": [
       "FloatProgress(value=0.0, bar_style='info', description='Progress:', layout=Layout(height='25px', width='50%'),…"
      ]
     },
     "metadata": {},
     "output_type": "display_data"
    }
   ],
   "source": [
    "# Load Teams Table\n",
    "data_source = glueContext.create_dynamic_frame.from_catalog(\n",
    "    name_space=source_catalog_database,\n",
    "    table_name=source_catalog_table3\n",
    ")\n",
    "\n",
    "# convert to a data frame\n",
    "df3 = data_source.toDF()\n",
    "\n",
    "# drop old snapshots\n",
    "\n",
    "df3 = get_latest_snapshot(df3)\n",
    "\n",
    "df3 = df3.withColumnRenamed(\"id\",\"team_id\") \\\n",
    "         .withColumnRenamed(\"name\",\"team_name\") \\\n",
    "         .withColumnRenamed(\"description\",\"team_description\")\n",
    "\n",
    "# Keep Only Relevant Columns\n",
    "df3 = df3.select(\"team_id\",\"team_name\",'team_description','location')\n",
    "\n",
    "# Check Result\n",
    "# df3.printSchema()"
   ]
  },
  {
   "cell_type": "code",
   "execution_count": 9,
   "metadata": {},
   "outputs": [
    {
     "data": {
      "application/vnd.jupyter.widget-view+json": {
       "model_id": "",
       "version_major": 2,
       "version_minor": 0
      },
      "text/plain": [
       "FloatProgress(value=0.0, bar_style='info', description='Progress:', layout=Layout(height='25px', width='50%'),…"
      ]
     },
     "metadata": {},
     "output_type": "display_data"
    }
   ],
   "source": [
    "# Join\n",
    "\n",
    "df2 = df2.join(df3,df2.user_team_id ==  df3.team_id,\"left\")\n",
    "df = df.join(df2,df.officer_id ==  df2.user_id,\"left\")"
   ]
  },
  {
   "cell_type": "code",
   "execution_count": 10,
   "metadata": {},
   "outputs": [
    {
     "data": {
      "application/vnd.jupyter.widget-view+json": {
       "model_id": "",
       "version_major": 2,
       "version_minor": 0
      },
      "text/plain": [
       "FloatProgress(value=0.0, bar_style='info', description='Progress:', layout=Layout(height='25px', width='50%'),…"
      ]
     },
     "metadata": {},
     "output_type": "display_data"
    },
    {
     "name": "stdout",
     "output_type": "stream",
     "text": [
      "+----------+-------+-------------------+--------------------+\n",
      "|officer_id|team_id|       officer_name|           team_name|\n",
      "+----------+-------+-------------------+--------------------+\n",
      "|       496|      8|       Joshua Bwire|Technical Admin Team|\n",
      "|       858|      8|   Tura Ajani-Salau|Technical Admin Team|\n",
      "|      1025|   null|    Carmen Stephens|                null|\n",
      "|       580|   null|  Marcin Manikowski|                null|\n",
      "|      1005|     42|     Osaro Osagiede|Customer Service ...|\n",
      "|      1016|   null|    Eleanor Winning|                null|\n",
      "|       976|   null| Olatunde Feyisetan|                null|\n",
      "|      1031|     42|     Nayyar Mehmood|Customer Service ...|\n",
      "|       596|      4|       Martha Clark|        Enforcement |\n",
      "|      1051|   null|          Maya Elmi|                null|\n",
      "|       842|     40|     Timothy Walder|        Central Team|\n",
      "|       842|     19|     Timothy Walder|          North Team|\n",
      "|       842|     32|     Timothy Walder|Conservation, Urb...|\n",
      "|      1030|     42|          Ola Coker|Customer Service ...|\n",
      "|      1034|     42|Asha wolfe-Robinson|Customer Service ...|\n",
      "|       988|      8|      Daryell Scott|Technical Admin Team|\n",
      "|      1019|   null|      Stuart Dunlop|                null|\n",
      "|       606|     32|         Matt Payne|Conservation, Urb...|\n",
      "|      1056|   null|       Eugene McGee|                null|\n",
      "|       984|     19|        Erin Glancy|          North Team|\n",
      "+----------+-------+-------------------+--------------------+\n",
      "only showing top 20 rows"
     ]
    }
   ],
   "source": [
    "df = df.drop(\"team_id\",\"user_id\")"
   ]
  },
  {
   "cell_type": "code",
   "execution_count": null,
   "metadata": {},
   "outputs": [],
   "source": [
    "# Transformation Ends"
   ]
  },
  {
   "cell_type": "code",
   "execution_count": null,
   "metadata": {},
   "outputs": [],
   "source": [
    "# Convert data frame to dynamic frame \n",
    "dyanmic_frame = DynamicFrame.fromDF(df, glueContext, \"target_data_to_write\")\n",
    "\n",
    "# Write the data to S3\n",
    "parquet_data = glueContext.write_dynamic_frame.from_options(\n",
    "    frame=dynamic_frame,\n",
    "    connection_type=\"s3\",\n",
    "    format=\"parquet\",\n",
    "    connection_options={\"path\": target_bucket, \"partitionKeys\": [\"import_year\", \"import_month\", \"import_day\", \"import_date\"]},\n",
    "    transformation_ctx=\"target_data_to_write\")"
   ]
  }
 ],
 "metadata": {
  "kernelspec": {
   "display_name": "PySpark",
   "language": "",
   "name": "pysparkkernel"
  },
  "language_info": {
   "codemirror_mode": {
    "name": "python",
    "version": 3
   },
   "mimetype": "text/x-python",
   "name": "pyspark",
   "pygments_lexer": "python3"
  }
 },
 "nbformat": 4,
 "nbformat_minor": 4
}
