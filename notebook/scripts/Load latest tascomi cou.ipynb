{
 "cells": [
  {
   "cell_type": "code",
   "execution_count": 1,
   "metadata": {},
   "outputs": [
    {
     "name": "stdout",
     "output_type": "stream",
     "text": [
      "Starting Spark application\n"
     ]
    },
    {
     "data": {
      "text/html": [
       "<table>\n",
       "<tr><th>ID</th><th>YARN Application ID</th><th>Kind</th><th>State</th><th>Spark UI</th><th>Driver log</th><th>Current session?</th></tr><tr><td>2</td><td>None</td><td>pyspark</td><td>idle</td><td></td><td></td><td>✔</td></tr></table>"
      ],
      "text/plain": [
       "<IPython.core.display.HTML object>"
      ]
     },
     "metadata": {},
     "output_type": "display_data"
    },
    {
     "data": {
      "application/vnd.jupyter.widget-view+json": {
       "model_id": "",
       "version_major": 2,
       "version_minor": 0
      },
      "text/plain": [
       "FloatProgress(value=0.0, bar_style='info', description='Progress:', layout=Layout(height='25px', width='50%'),…"
      ]
     },
     "metadata": {},
     "output_type": "display_data"
    },
    {
     "name": "stdout",
     "output_type": "stream",
     "text": [
      "SparkSession available as 'spark'.\n"
     ]
    },
    {
     "data": {
      "application/vnd.jupyter.widget-view+json": {
       "model_id": "",
       "version_major": 2,
       "version_minor": 0
      },
      "text/plain": [
       "FloatProgress(value=0.0, bar_style='info', description='Progress:', layout=Layout(height='25px', width='50%'),…"
      ]
     },
     "metadata": {},
     "output_type": "display_data"
    }
   ],
   "source": [
    "import sys\n",
    "from awsglue.utils import getResolvedOptions\n",
    "import pyspark.sql.functions as F\n",
    "from pyspark import SparkContext\n",
    "from awsglue.context import GlueContext\n",
    "from awsglue.dynamicframe import DynamicFrame\n",
    "from awsglue.job import Job\n",
    "from pyspark.sql.functions import col, max\n",
    "\n"
   ]
  },
  {
   "cell_type": "code",
   "execution_count": 2,
   "metadata": {},
   "outputs": [
    {
     "data": {
      "application/vnd.jupyter.widget-view+json": {
       "model_id": "",
       "version_major": 2,
       "version_minor": 0
      },
      "text/plain": [
       "FloatProgress(value=0.0, bar_style='info', description='Progress:', layout=Layout(height='25px', width='50%'),…"
      ]
     },
     "metadata": {},
     "output_type": "display_data"
    }
   ],
   "source": [
    "\n",
    "# from helpers import get_glue_env_var, get_latest_partitions, PARTITION_KEYS\n",
    "# from helpers import get_glue_env_var, PARTITION_KEYS\n",
    "\n",
    "glueContext = GlueContext(SparkContext.getOrCreate())\n",
    "job = Job(glueContext)\n",
    "\n",
    "PARTITION_KEYS = [\"import_year\", \"import_month\", \"import_day\", \"import_date\"]\n",
    "\n",
    "# def get_latest_partitions(dfa):\n",
    "#    dfa = dfa.where(col('import_year') == dfa.select(max('import_year')).first()[0])\n",
    "#    dfa = dfa.where(col('import_month') == dfa.select(max('import_month')).first()[0])\n",
    "#    dfa = dfa.where(col('import_day') == dfa.select(max('import_day')).first()[0])\n",
    "#    return dfa\n",
    "\n",
    "def add_import_time_columns(data_frame):\n",
    "    now = datetime.datetime.now()\n",
    "    importYear = str(now.year)\n",
    "    importMonth = str(now.month).zfill(2)\n",
    "    importDay = str(now.day).zfill(2)\n",
    "    importDate = importYear + importMonth + importDay\n",
    "\n",
    "    data_frame = data_frame.withColumn(\n",
    "        'import_datetime', f.current_timestamp())\n",
    "    data_frame = data_frame.withColumn(\n",
    "        'import_timestamp', f.lit(str(now.timestamp())))\n",
    "    data_frame = data_frame.withColumn('import_year', f.lit(importYear))\n",
    "    data_frame = data_frame.withColumn('import_month', f.lit(importMonth))\n",
    "    data_frame = data_frame.withColumn('import_day', f.lit(importDay))\n",
    "    data_frame = data_frame.withColumn('import_date', f.lit(importDate))\n",
    "    return data_frame\n",
    "\n",
    "def add_currency_date_columns(data_frame, currencyYear, currencyMonth, currencyDay):\n",
    "#     currencyYear = str(date.year)\n",
    "    currencyMonth = currencyMonth.zfill(2)\n",
    "    currencyDay = currencyDay.zfill(2)\n",
    "    currencyDate = currencyYear + currencyMonth + currencyDay\n",
    "\n",
    "    data_frame = data_frame.withColumn('currency_year', f.lit(currencyYear))\n",
    "    data_frame = data_frame.withColumn('currency_month', f.lit(currencyMonth))\n",
    "    data_frame = data_frame.withColumn('currency_day', f.lit(currencyDay))\n",
    "    data_frame = data_frame.withColumn('currency_date', f.lit(currencyDate))\n",
    "    return data_frame\n"
   ]
  },
  {
   "cell_type": "code",
   "execution_count": 12,
   "metadata": {},
   "outputs": [
    {
     "data": {
      "application/vnd.jupyter.widget-view+json": {
       "model_id": "",
       "version_major": 2,
       "version_minor": 0
      },
      "text/plain": [
       "FloatProgress(value=0.0, bar_style='info', description='Progress:', layout=Layout(height='25px', width='50%'),…"
      ]
     },
     "metadata": {},
     "output_type": "display_data"
    }
   ],
   "source": [
    "tableList = [\"contacts\"]\n",
    "# tableList = [\"public_comments\"]\n",
    "databaseName = \"dataplatform-stg-tascomi-raw-zone\"\n"
   ]
  },
  {
   "cell_type": "code",
   "execution_count": 4,
   "metadata": {},
   "outputs": [
    {
     "data": {
      "application/vnd.jupyter.widget-view+json": {
       "model_id": "",
       "version_major": 2,
       "version_minor": 0
      },
      "text/plain": [
       "FloatProgress(value=0.0, bar_style='info', description='Progress:', layout=Layout(height='25px', width='50%'),…"
      ]
     },
     "metadata": {},
     "output_type": "display_data"
    }
   ],
   "source": [
    "daysBuffer = 5\n",
    "if daysBuffer > 0:\n",
    "    pushDownPredicate = f\"import_date>=date_format(date_sub(current_date, {daysBuffer}), 'yyyyMMdd')\"\n",
    "else:\n",
    "    pushDownPredicate = \"\"\n"
   ]
  },
  {
   "cell_type": "code",
   "execution_count": 13,
   "metadata": {},
   "outputs": [
    {
     "data": {
      "application/vnd.jupyter.widget-view+json": {
       "model_id": "",
       "version_major": 2,
       "version_minor": 0
      },
      "text/plain": [
       "FloatProgress(value=0.0, bar_style='info', description='Progress:', layout=Layout(height='25px', width='50%'),…"
      ]
     },
     "metadata": {},
     "output_type": "display_data"
    }
   ],
   "source": [
    "for nameOfTableToRecast in tableList:\n",
    "    \n",
    "#   load data\n",
    "    source_ddf = glueContext.create_dynamic_frame.from_catalog(\n",
    "        name_space=databaseName,\n",
    "        table_name=nameOfTableToRecast,\n",
    "#         push_down_predicate = pushDownPredicate\n",
    "        push_down_predicate = \"import_date = '20211026'\"\n",
    "    )\n",
    "\n",
    "    source_df = source_ddf.toDF()\n",
    "    \n",
    "#     print((source_df.count()))\n",
    "\n",
    "\n",
    "#     source_df = get_latest_partitions(source_df)\n",
    "\n",
    "#   remove json col\n",
    "#     source_df = source_df.drop(\"json\")\n",
    "#     source_df = source_df.drop(nameOfTableToRecast)\n",
    "\n",
    "#   recast\n",
    "    \n",
    "\n",
    "\n",
    "\n"
   ]
  },
  {
   "cell_type": "code",
   "execution_count": 14,
   "metadata": {},
   "outputs": [
    {
     "data": {
      "application/vnd.jupyter.widget-view+json": {
       "model_id": "",
       "version_major": 2,
       "version_minor": 0
      },
      "text/plain": [
       "FloatProgress(value=0.0, bar_style='info', description='Progress:', layout=Layout(height='25px', width='50%'),…"
      ]
     },
     "metadata": {},
     "output_type": "display_data"
    }
   ],
   "source": [
    "## WRITE snapshot TO S3\n",
    "\n",
    "def add_currency_date_columns(data_frame, currencyYear, currencyMonth, currencyDay):\n",
    "    currencyMonth = currencyMonth.zfill(2)\n",
    "    currencyDay = currencyDay.zfill(2)\n",
    "    currencyDate = currencyYear + currencyMonth + currencyDay\n",
    "\n",
    "    data_frame = data_frame.withColumn('currency_year', F.lit(currencyYear))\n",
    "    data_frame = data_frame.withColumn('currency_month', F.lit(currencyMonth))\n",
    "    data_frame = data_frame.withColumn('currency_day', F.lit(currencyDay))\n",
    "    data_frame = data_frame.withColumn('currency_date', F.lit(currencyDate))\n",
    "    return data_frame\n",
    "\n",
    "\n",
    "PARTITION_KEYS = [\"currency_year\", \"currency_month\", \"currency_day\", \"currency_date\"]\n",
    "source_df = add_currency_date_columns(source_df, '2021','10','26')\n",
    "\n",
    "resultDataFrame = DynamicFrame.fromDF(source_df, glueContext, \"resultDataFrame\")\n",
    "\n",
    "target_destination = f\"s3://dataplatform-stg-refined-zone/TEMP/snapshot/{nameOfTableToRecast}\"\n",
    "parquetData = glueContext.write_dynamic_frame.from_options(\n",
    "    frame=resultDataFrame,\n",
    "    connection_type=\"s3\",\n",
    "    format=\"parquet\",\n",
    "    connection_options={\"path\": target_destination, \"partitionKeys\": PARTITION_KEYS},\n",
    "    transformation_ctx=\"parquetData\")"
   ]
  },
  {
   "cell_type": "code",
   "execution_count": 6,
   "metadata": {},
   "outputs": [
    {
     "data": {
      "application/vnd.jupyter.widget-view+json": {
       "model_id": "",
       "version_major": 2,
       "version_minor": 0
      },
      "text/plain": [
       "FloatProgress(value=0.0, bar_style='info', description='Progress:', layout=Layout(height='25px', width='50%'),…"
      ]
     },
     "metadata": {},
     "output_type": "display_data"
    }
   ],
   "source": [
    "## WRITE increment TO S3\n",
    "\n",
    "resultDataFrame = DynamicFrame.fromDF(source_df, glueContext, \"resultDataFrame\")\n",
    "target_destination = f\"s3://dataplatform-stg-refined-zone/TEMP/increment/{nameOfTableToRecast}\"\n",
    "\n",
    "\n",
    "parquetData = glueContext.write_dynamic_frame.from_options(\n",
    "    frame=resultDataFrame,\n",
    "    connection_type=\"s3\",\n",
    "    format=\"parquet\",\n",
    "    connection_options={\"path\": target_destination, \"partitionKeys\": PARTITION_KEYS},\n",
    "    transformation_ctx=\"parquetData\")\n"
   ]
  },
  {
   "cell_type": "code",
   "execution_count": 11,
   "metadata": {},
   "outputs": [
    {
     "data": {
      "application/vnd.jupyter.widget-view+json": {
       "model_id": "",
       "version_major": 2,
       "version_minor": 0
      },
      "text/plain": [
       "FloatProgress(value=0.0, bar_style='info', description='Progress:', layout=Layout(height='25px', width='50%'),…"
      ]
     },
     "metadata": {},
     "output_type": "display_data"
    }
   ],
   "source": []
  },
  {
   "cell_type": "code",
   "execution_count": null,
   "metadata": {},
   "outputs": [],
   "source": [
    "def get_latest_snapshot(dfa):\n",
    "   dfa = dfa.where(col('currency_date') == dfa.select(max('currency_date')).first()[0])\n",
    "   return dfa\n",
    "\n",
    "# create snapshot\n",
    "# load latest snapshot\n",
    "snapshot_ddf = glueContext.create_dynamic_frame.from_catalog(\n",
    "        name_space=databaseName,\n",
    "        table_name=nameOfTableToRecast,\n",
    "        push_down_predicate = pushDownPredicate\n",
    "    )\n",
    "\n",
    "snapshot_df = snapshot_ddf.toDF()\n",
    "snapshot_df = get_latest_snapshot(snapshot_df)\n",
    "last_currency_date = snapshot_df.select(max('currency_date')).first()[0]\n",
    "\n",
    "print(last_currency_date)\n",
    "\n",
    "# load increments later than the currency date\n",
    "source_data = glueContext.create_dynamic_frame.from_options(\n",
    "    connection_type=\"s3\",\n",
    "    format=\"parquet\",\n",
    "    pushDownPredicate = f\"import_date>{last_currency_date}\"\n",
    "    connection_options={\n",
    "        \"paths\": [target_destination],\n",
    "        \"recurse\": True\n",
    "    },\n",
    "    transformation_ctx=\"query_addresses\"\n",
    ")\n",
    "source_df = source_data.toDF()\n",
    "\n",
    "\n",
    "# apply COU\n",
    "\n",
    "# add currency date and set it a partition key\n",
    "PARTITION_KEYS = [\"currency_date\"]\n",
    "\n",
    "\n",
    "# write snapshot to S3\n",
    "\n"
   ]
  }
 ],
 "metadata": {
  "kernelspec": {
   "display_name": "PySpark",
   "language": "",
   "name": "pysparkkernel"
  },
  "language_info": {
   "codemirror_mode": {
    "name": "python",
    "version": 3
   },
   "mimetype": "text/x-python",
   "name": "pyspark",
   "pygments_lexer": "python3"
  }
 },
 "nbformat": 4,
 "nbformat_minor": 4
}
