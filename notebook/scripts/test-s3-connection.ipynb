{
 "cells": [
  {
   "cell_type": "code",
   "execution_count": null,
   "metadata": {},
   "outputs": [],
   "source": [
    "from pyspark import SparkContext\n",
    "from awsglue.context import GlueContext\n",
    "import  boto3\n",
    "\n",
    "s3Client = boto3.client('s3')\n",
    "s3Bucket=\"dataplatform-stg-landing-zone\"\n",
    "prefix = \"parking/manual\"\n",
    "\n",
    "objects = s3Client.list_objects_v2(\n",
    "    Bucket=s3Bucket,\n",
    "    Prefix=prefix\n",
    ")['Contents']\n",
    "\n",
    "nonEmptyObjects = list(filter(lambda x: x['Size'] != 0, objects))\n",
    "nonEmptyObjects[0:10]"
   ]
  },
  {
   "cell_type": "code",
   "execution_count": null,
   "metadata": {},
   "outputs": [],
   "source": [
    "exampleObject = nonEmptyObjects[0]['Key']\n",
    "exampleObject"
   ]
  },
  {
   "cell_type": "code",
   "execution_count": null,
   "metadata": {},
   "outputs": [],
   "source": [
    "\n",
    "\n",
    "glueContext = GlueContext(SparkContext.getOrCreate()) \n",
    "inputDF = glueContext.create_dynamic_frame_from_options(\n",
    "    connection_type = \"s3\",\n",
    "    connection_options = {\"paths\": [f\"s3://{s3Bucket}/{exampleObject}\"]}, format = \"csv\", format_options = { \"withHeader\": True })\n",
    "\n",
    "inputDF.toDF().show(10)"
   ]
  },
  {
   "cell_type": "code",
   "execution_count": null,
   "metadata": {},
   "outputs": [],
   "source": [
    "inputDF.toDF().columns"
   ]
  }
 ],
 "metadata": {
  "kernelspec": {
   "display_name": "Glue Spark - Local (PySpark)",
   "language": "python",
   "name": "pysparkkernel"
  },
  "language_info": {
   "codemirror_mode": {
    "name": "python",
    "version": 3
   },
   "file_extension": ".py",
   "mimetype": "text/x-python",
   "name": "pyspark",
   "pygments_lexer": "python3"
  }
 },
 "nbformat": 4,
 "nbformat_minor": 4
}
