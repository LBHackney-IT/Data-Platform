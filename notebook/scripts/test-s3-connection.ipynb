{
 "cells": [
  {
   "cell_type": "code",
   "execution_count": null,
   "metadata": {},
   "outputs": [],
   "source": [
    "from pyspark import SparkContext\n",
    "from awsglue.context import GlueContext\n",
    "s3_url=\"s3://dataplatform-emmacorbett-landing-zone/parking/manual/cedar-parking-expenditure/Parking Expenditure-Table 1.csv\"\n",
    "\n",
    "glueContext = GlueContext(SparkContext.getOrCreate()) \n",
    "inputDF = glueContext.create_dynamic_frame_from_options(\n",
    "    connection_type = \"s3\",\n",
    "    connection_options = {\"paths\": [s3_url]}, format = \"csv\", format_options = { \"withHeader\": True })\n",
    "\n",
    "inputDF.toDF().show()"
   ]
  },
  {
   "cell_type": "code",
   "execution_count": null,
   "metadata": {},
   "outputs": [],
   "source": [
    "inputDF.toDF().columns"
   ]
  },
  {
   "cell_type": "code",
   "execution_count": null,
   "metadata": {},
   "outputs": [],
   "source": []
  }
 ],
 "metadata": {
  "kernelspec": {
   "display_name": "PySpark",
   "language": "",
   "name": "pysparkkernel"
  },
  "language_info": {
   "codemirror_mode": {
    "name": "python",
    "version": 3
   },
   "mimetype": "text/x-python",
   "name": "pyspark",
   "pygments_lexer": "python3"
  }
 },
 "nbformat": 4,
 "nbformat_minor": 4
}
